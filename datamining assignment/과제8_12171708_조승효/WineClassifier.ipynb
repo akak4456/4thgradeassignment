{
  "nbformat": 4,
  "nbformat_minor": 0,
  "metadata": {
    "colab": {
      "name": "WindClassifier.ipynb",
      "provenance": [],
      "collapsed_sections": []
    },
    "kernelspec": {
      "display_name": "Python 3",
      "language": "python",
      "name": "python3"
    },
    "language_info": {
      "codemirror_mode": {
        "name": "ipython",
        "version": 3
      },
      "file_extension": ".py",
      "mimetype": "text/x-python",
      "name": "python",
      "nbconvert_exporter": "python",
      "pygments_lexer": "ipython3",
      "version": "3.7.4"
    }
  },
  "cells": [
    {
      "cell_type": "code",
      "metadata": {
        "colab_type": "code",
        "id": "3rsyN-78ocI6",
        "outputId": "518b97ef-cb2e-4f1b-c26d-7e31f74f1b3a",
        "colab": {
          "base_uri": "https://localhost:8080/",
          "height": 125
        }
      },
      "source": [
        "from google.colab import drive\n",
        "drive.mount('/gdrive')"
      ],
      "execution_count": 1,
      "outputs": [
        {
          "output_type": "stream",
          "text": [
            "Go to this URL in a browser: https://accounts.google.com/o/oauth2/auth?client_id=947318989803-6bn6qk8qdgf4n4g3pfee6491hc0brc4i.apps.googleusercontent.com&redirect_uri=urn%3aietf%3awg%3aoauth%3a2.0%3aoob&response_type=code&scope=email%20https%3a%2f%2fwww.googleapis.com%2fauth%2fdocs.test%20https%3a%2f%2fwww.googleapis.com%2fauth%2fdrive%20https%3a%2f%2fwww.googleapis.com%2fauth%2fdrive.photos.readonly%20https%3a%2f%2fwww.googleapis.com%2fauth%2fpeopleapi.readonly\n",
            "\n",
            "Enter your authorization code:\n",
            "··········\n",
            "Mounted at /gdrive\n"
          ],
          "name": "stdout"
        }
      ]
    },
    {
      "cell_type": "markdown",
      "metadata": {
        "colab_type": "text",
        "id": "AH7bAAGcobV3"
      },
      "source": [
        "# 와인 감별사 : 와인의 Quality를 분류하는 Classifier 만들기\n",
        "\n",
        "## 1. 과제 설명\n",
        "이번 과제에서는 케라스(Keras)를 활용하여, 와인의 품질을 분류하는 인공신경망 분류기를 만들어 볼 것입니다.\n",
        "케라스는 Tensorflow, Theano 등의 딥 러닝 라이브러리 위에서 동작하는 오픈 소스 라이브러리로, 보다 쉬운 API를 제공함으로써 모델 설계 및 학습, 테스트가 간단하다는 장점이 있습니다. \n",
        "\n",
        "### 1.1 케라스 설치를 위한 필수 라이브러리\n",
        "케라스를 설치하기 전에 먼저 필수적으로 설치해야 할 것들이 있습니다.\n",
        "* Anaconda : Python 3.x 버전, Numpy, Pandas, SciPy, sklearn 등 필수 라이브러리들이 포함된 통합 배포 팩\n",
        "<br> 아나콘다 설치 : https://www.anaconda.com/distribution/#download-section\n",
        "* Tensorflow : Google에서 개발한 오픈 소스 딥 러닝 라이브러리. <b>설치된 Python 버전과 호환되는 것으로 설치할것!</b>\n",
        "<br> 텐서플로우 설치 : https://www.tensorflow.org/install/pip\n",
        "<br> * CPU 버전을 설치할 것을 권장. \n",
        "\n",
        "### 1.2 케라스 설치\n",
        "위 라이브러리들을 설치한 후, 케라스를 설치합니다.\n",
        "* https://keras.io/#installation\n",
        "\n",
        "### 1.3 케라스 설치 확인\n",
        "케라스가 올바르게 설치되었는지 확인하기 위해, 케라스를 Import한 뒤 버전을 출력해봅니다.\n"
      ]
    },
    {
      "cell_type": "code",
      "metadata": {
        "colab_type": "code",
        "id": "RdWzUjvZobV4",
        "outputId": "038c68ed-71f8-4ded-9041-acaee9b53a3f",
        "colab": {
          "base_uri": "https://localhost:8080/",
          "height": 52
        }
      },
      "source": [
        "import keras\n",
        "\n",
        "keras.__version__"
      ],
      "execution_count": 2,
      "outputs": [
        {
          "output_type": "stream",
          "text": [
            "Using TensorFlow backend.\n"
          ],
          "name": "stderr"
        },
        {
          "output_type": "execute_result",
          "data": {
            "text/plain": [
              "'2.3.1'"
            ]
          },
          "metadata": {
            "tags": []
          },
          "execution_count": 2
        }
      ]
    },
    {
      "cell_type": "markdown",
      "metadata": {
        "colab_type": "text",
        "id": "lWlwSKksobV_"
      },
      "source": [
        "위와 같이 케라스의 버전이 출력되면 정상입니다. (출력되는 버전은 위 예시와 다를 수도 있음)<br> 나중에 신경망을 만들기 위한 클래스들도 함께 Import 합시다."
      ]
    },
    {
      "cell_type": "code",
      "metadata": {
        "colab_type": "code",
        "id": "ruFtS02AobWA",
        "colab": {}
      },
      "source": [
        "from keras import Sequential\n",
        "from keras.layers import Dense, Activation"
      ],
      "execution_count": 0,
      "outputs": []
    },
    {
      "cell_type": "markdown",
      "metadata": {
        "colab_type": "text",
        "id": "ZggQC1JiobWC"
      },
      "source": [
        "---\n",
        "## 2. Data Set 설명\n",
        " 본 과제에서 사용할 데이터 셋은 UCI에서 제공되는 Wine Quality Data Set입니다. (https://archive.ics.uci.edu/ml/datasets/Wine+Quality) 데이터는 레드 와인 1599개, 화이트 와인 4898개의 화학적 특성을 포함하고 있습니다. 데이터는 두 개의 CSV(Comma-seperated values)형태로 제공되며, 구성은 다음과 같습니다.\n",
        "* 화이트 와인 / 레드 와인 CSV 파일\n",
        "* 11개의 실수(Real) 입력 변수 (X)\n",
        "    * fixed acidity\n",
        "    * volatile acidity\n",
        "    * citric acid\n",
        "    * residual sugar\n",
        "    * chlorides\n",
        "    * free sulfur dioxide\n",
        "    * total sulfur dioxide\n",
        "    * density\n",
        "    * pH\n",
        "    * sulphates\n",
        "    * alcohol\n",
        "* 1개의 클래스 레이블 (Y)\n",
        "   * quality (0~10, 0: Very poor, 10: Very excellent)\n",
        "* Missing Value 없음\n",
        "* 클래스들이 불균등하게 분포함.\n",
        "\n",
        "더 자세한 사항은 블랙보드에 함께 올라가있는 설명 파일을 참고하도록 합시다.\n",
        "\n",
        "### 2.1 데이터 로드\n",
        "데이터 분석에서 가장 많이 사용되는 라이브러리 중 하나인 Pandas와 Numpy를 Import하겠습니다. Pandas는 데이터 분석에 유용한 데이터 타입인 DataFrame을 제공하며, Numpy는 효율적이고 빠른 매트릭스 연산을 지원합니다."
      ]
    },
    {
      "cell_type": "code",
      "metadata": {
        "colab_type": "code",
        "id": "j5kTZyX1obWD",
        "colab": {}
      },
      "source": [
        "import pandas as pd\n",
        "pd.__version__\n",
        "pd.options.display.max_rows=15"
      ],
      "execution_count": 0,
      "outputs": []
    },
    {
      "cell_type": "code",
      "metadata": {
        "colab_type": "code",
        "id": "G0thM0X0obWG",
        "outputId": "7a55a4d9-2d34-47c8-91fb-f8eb74727caf",
        "colab": {
          "base_uri": "https://localhost:8080/",
          "height": 34
        }
      },
      "source": [
        "import numpy as np\n",
        "np.__version__"
      ],
      "execution_count": 5,
      "outputs": [
        {
          "output_type": "execute_result",
          "data": {
            "text/plain": [
              "'1.18.4'"
            ]
          },
          "metadata": {
            "tags": []
          },
          "execution_count": 5
        }
      ]
    },
    {
      "cell_type": "markdown",
      "metadata": {
        "colab_type": "text",
        "id": "fHEmT15sobWJ"
      },
      "source": [
        "Pandas를 이용해서 CSV 파일을 읽어들이도록 합시다. white_wine 변수에는 화이트 와인 데이터를, red_wine 변수에는 레드 와인 데이터를 읽어들입니다."
      ]
    },
    {
      "cell_type": "code",
      "metadata": {
        "colab_type": "code",
        "id": "t0s-aG2SobWJ",
        "colab": {}
      },
      "source": [
        "#########################코드########################\n",
        "\n",
        "\n",
        "white_wine = pd.read_csv('/gdrive/My Drive/winequality-white.csv',header='infer')\n",
        "red_wine = pd.read_csv('/gdrive/My Drive/winequality-red.csv',header='infer')\n",
        "\n",
        "\n",
        "#####################################################"
      ],
      "execution_count": 0,
      "outputs": []
    },
    {
      "cell_type": "markdown",
      "metadata": {
        "colab_type": "text",
        "id": "E3zUEFZtobWM"
      },
      "source": [
        "### 2.2 데이터 전처리\n",
        "데이터를 읽어들인 뒤, 읽어들인 데이터프레임을 display 함수를 통해 확인합니다."
      ]
    },
    {
      "cell_type": "code",
      "metadata": {
        "colab_type": "code",
        "id": "IR2Bk48fobWM",
        "outputId": "5e54f546-509e-49bc-bab7-ca90ba99d4b9",
        "colab": {
          "base_uri": "https://localhost:8080/",
          "height": 402
        }
      },
      "source": [
        "display(white_wine)"
      ],
      "execution_count": 7,
      "outputs": [
        {
          "output_type": "display_data",
          "data": {
            "text/html": [
              "<div>\n",
              "<style scoped>\n",
              "    .dataframe tbody tr th:only-of-type {\n",
              "        vertical-align: middle;\n",
              "    }\n",
              "\n",
              "    .dataframe tbody tr th {\n",
              "        vertical-align: top;\n",
              "    }\n",
              "\n",
              "    .dataframe thead th {\n",
              "        text-align: right;\n",
              "    }\n",
              "</style>\n",
              "<table border=\"1\" class=\"dataframe\">\n",
              "  <thead>\n",
              "    <tr style=\"text-align: right;\">\n",
              "      <th></th>\n",
              "      <th>fixed acidity</th>\n",
              "      <th>volatile acidity</th>\n",
              "      <th>citric acid</th>\n",
              "      <th>residual sugar</th>\n",
              "      <th>chlorides</th>\n",
              "      <th>free sulfur dioxide</th>\n",
              "      <th>total sulfur dioxide</th>\n",
              "      <th>density</th>\n",
              "      <th>pH</th>\n",
              "      <th>sulphates</th>\n",
              "      <th>alcohol</th>\n",
              "      <th>quality</th>\n",
              "    </tr>\n",
              "  </thead>\n",
              "  <tbody>\n",
              "    <tr>\n",
              "      <th>0</th>\n",
              "      <td>7.0</td>\n",
              "      <td>0.27</td>\n",
              "      <td>0.36</td>\n",
              "      <td>20.7</td>\n",
              "      <td>0.045</td>\n",
              "      <td>45.0</td>\n",
              "      <td>170.0</td>\n",
              "      <td>1.00100</td>\n",
              "      <td>3.00</td>\n",
              "      <td>0.45</td>\n",
              "      <td>8.8</td>\n",
              "      <td>6</td>\n",
              "    </tr>\n",
              "    <tr>\n",
              "      <th>1</th>\n",
              "      <td>6.3</td>\n",
              "      <td>0.30</td>\n",
              "      <td>0.34</td>\n",
              "      <td>1.6</td>\n",
              "      <td>0.049</td>\n",
              "      <td>14.0</td>\n",
              "      <td>132.0</td>\n",
              "      <td>0.99400</td>\n",
              "      <td>3.30</td>\n",
              "      <td>0.49</td>\n",
              "      <td>9.5</td>\n",
              "      <td>6</td>\n",
              "    </tr>\n",
              "    <tr>\n",
              "      <th>2</th>\n",
              "      <td>8.1</td>\n",
              "      <td>0.28</td>\n",
              "      <td>0.40</td>\n",
              "      <td>6.9</td>\n",
              "      <td>0.050</td>\n",
              "      <td>30.0</td>\n",
              "      <td>97.0</td>\n",
              "      <td>0.99510</td>\n",
              "      <td>3.26</td>\n",
              "      <td>0.44</td>\n",
              "      <td>10.1</td>\n",
              "      <td>6</td>\n",
              "    </tr>\n",
              "    <tr>\n",
              "      <th>3</th>\n",
              "      <td>7.2</td>\n",
              "      <td>0.23</td>\n",
              "      <td>0.32</td>\n",
              "      <td>8.5</td>\n",
              "      <td>0.058</td>\n",
              "      <td>47.0</td>\n",
              "      <td>186.0</td>\n",
              "      <td>0.99560</td>\n",
              "      <td>3.19</td>\n",
              "      <td>0.40</td>\n",
              "      <td>9.9</td>\n",
              "      <td>6</td>\n",
              "    </tr>\n",
              "    <tr>\n",
              "      <th>4</th>\n",
              "      <td>7.2</td>\n",
              "      <td>0.23</td>\n",
              "      <td>0.32</td>\n",
              "      <td>8.5</td>\n",
              "      <td>0.058</td>\n",
              "      <td>47.0</td>\n",
              "      <td>186.0</td>\n",
              "      <td>0.99560</td>\n",
              "      <td>3.19</td>\n",
              "      <td>0.40</td>\n",
              "      <td>9.9</td>\n",
              "      <td>6</td>\n",
              "    </tr>\n",
              "    <tr>\n",
              "      <th>...</th>\n",
              "      <td>...</td>\n",
              "      <td>...</td>\n",
              "      <td>...</td>\n",
              "      <td>...</td>\n",
              "      <td>...</td>\n",
              "      <td>...</td>\n",
              "      <td>...</td>\n",
              "      <td>...</td>\n",
              "      <td>...</td>\n",
              "      <td>...</td>\n",
              "      <td>...</td>\n",
              "      <td>...</td>\n",
              "    </tr>\n",
              "    <tr>\n",
              "      <th>4893</th>\n",
              "      <td>6.2</td>\n",
              "      <td>0.21</td>\n",
              "      <td>0.29</td>\n",
              "      <td>1.6</td>\n",
              "      <td>0.039</td>\n",
              "      <td>24.0</td>\n",
              "      <td>92.0</td>\n",
              "      <td>0.99114</td>\n",
              "      <td>3.27</td>\n",
              "      <td>0.50</td>\n",
              "      <td>11.2</td>\n",
              "      <td>6</td>\n",
              "    </tr>\n",
              "    <tr>\n",
              "      <th>4894</th>\n",
              "      <td>6.6</td>\n",
              "      <td>0.32</td>\n",
              "      <td>0.36</td>\n",
              "      <td>8.0</td>\n",
              "      <td>0.047</td>\n",
              "      <td>57.0</td>\n",
              "      <td>168.0</td>\n",
              "      <td>0.99490</td>\n",
              "      <td>3.15</td>\n",
              "      <td>0.46</td>\n",
              "      <td>9.6</td>\n",
              "      <td>5</td>\n",
              "    </tr>\n",
              "    <tr>\n",
              "      <th>4895</th>\n",
              "      <td>6.5</td>\n",
              "      <td>0.24</td>\n",
              "      <td>0.19</td>\n",
              "      <td>1.2</td>\n",
              "      <td>0.041</td>\n",
              "      <td>30.0</td>\n",
              "      <td>111.0</td>\n",
              "      <td>0.99254</td>\n",
              "      <td>2.99</td>\n",
              "      <td>0.46</td>\n",
              "      <td>9.4</td>\n",
              "      <td>6</td>\n",
              "    </tr>\n",
              "    <tr>\n",
              "      <th>4896</th>\n",
              "      <td>5.5</td>\n",
              "      <td>0.29</td>\n",
              "      <td>0.30</td>\n",
              "      <td>1.1</td>\n",
              "      <td>0.022</td>\n",
              "      <td>20.0</td>\n",
              "      <td>110.0</td>\n",
              "      <td>0.98869</td>\n",
              "      <td>3.34</td>\n",
              "      <td>0.38</td>\n",
              "      <td>12.8</td>\n",
              "      <td>7</td>\n",
              "    </tr>\n",
              "    <tr>\n",
              "      <th>4897</th>\n",
              "      <td>6.0</td>\n",
              "      <td>0.21</td>\n",
              "      <td>0.38</td>\n",
              "      <td>0.8</td>\n",
              "      <td>0.020</td>\n",
              "      <td>22.0</td>\n",
              "      <td>98.0</td>\n",
              "      <td>0.98941</td>\n",
              "      <td>3.26</td>\n",
              "      <td>0.32</td>\n",
              "      <td>11.8</td>\n",
              "      <td>6</td>\n",
              "    </tr>\n",
              "  </tbody>\n",
              "</table>\n",
              "<p>4898 rows × 12 columns</p>\n",
              "</div>"
            ],
            "text/plain": [
              "      fixed acidity  volatile acidity  citric acid  ...  sulphates  alcohol  quality\n",
              "0               7.0              0.27         0.36  ...       0.45      8.8        6\n",
              "1               6.3              0.30         0.34  ...       0.49      9.5        6\n",
              "2               8.1              0.28         0.40  ...       0.44     10.1        6\n",
              "3               7.2              0.23         0.32  ...       0.40      9.9        6\n",
              "4               7.2              0.23         0.32  ...       0.40      9.9        6\n",
              "...             ...               ...          ...  ...        ...      ...      ...\n",
              "4893            6.2              0.21         0.29  ...       0.50     11.2        6\n",
              "4894            6.6              0.32         0.36  ...       0.46      9.6        5\n",
              "4895            6.5              0.24         0.19  ...       0.46      9.4        6\n",
              "4896            5.5              0.29         0.30  ...       0.38     12.8        7\n",
              "4897            6.0              0.21         0.38  ...       0.32     11.8        6\n",
              "\n",
              "[4898 rows x 12 columns]"
            ]
          },
          "metadata": {
            "tags": []
          }
        }
      ]
    },
    {
      "cell_type": "code",
      "metadata": {
        "colab_type": "code",
        "id": "aoIonV7KobWP",
        "outputId": "c08b4b4d-2706-4a74-90f0-0da50ad47ac8",
        "colab": {
          "base_uri": "https://localhost:8080/",
          "height": 402
        }
      },
      "source": [
        "display(red_wine)"
      ],
      "execution_count": 8,
      "outputs": [
        {
          "output_type": "display_data",
          "data": {
            "text/html": [
              "<div>\n",
              "<style scoped>\n",
              "    .dataframe tbody tr th:only-of-type {\n",
              "        vertical-align: middle;\n",
              "    }\n",
              "\n",
              "    .dataframe tbody tr th {\n",
              "        vertical-align: top;\n",
              "    }\n",
              "\n",
              "    .dataframe thead th {\n",
              "        text-align: right;\n",
              "    }\n",
              "</style>\n",
              "<table border=\"1\" class=\"dataframe\">\n",
              "  <thead>\n",
              "    <tr style=\"text-align: right;\">\n",
              "      <th></th>\n",
              "      <th>fixed acidity</th>\n",
              "      <th>volatile acidity</th>\n",
              "      <th>citric acid</th>\n",
              "      <th>residual sugar</th>\n",
              "      <th>chlorides</th>\n",
              "      <th>free sulfur dioxide</th>\n",
              "      <th>total sulfur dioxide</th>\n",
              "      <th>density</th>\n",
              "      <th>pH</th>\n",
              "      <th>sulphates</th>\n",
              "      <th>alcohol</th>\n",
              "      <th>quality</th>\n",
              "    </tr>\n",
              "  </thead>\n",
              "  <tbody>\n",
              "    <tr>\n",
              "      <th>0</th>\n",
              "      <td>7.4</td>\n",
              "      <td>0.700</td>\n",
              "      <td>0.00</td>\n",
              "      <td>1.9</td>\n",
              "      <td>0.076</td>\n",
              "      <td>11</td>\n",
              "      <td>34</td>\n",
              "      <td>0.99780</td>\n",
              "      <td>3.51</td>\n",
              "      <td>0.56</td>\n",
              "      <td>9.4</td>\n",
              "      <td>5</td>\n",
              "    </tr>\n",
              "    <tr>\n",
              "      <th>1</th>\n",
              "      <td>7.8</td>\n",
              "      <td>0.880</td>\n",
              "      <td>0.00</td>\n",
              "      <td>2.6</td>\n",
              "      <td>0.098</td>\n",
              "      <td>25</td>\n",
              "      <td>67</td>\n",
              "      <td>0.99680</td>\n",
              "      <td>3.20</td>\n",
              "      <td>0.68</td>\n",
              "      <td>9.8</td>\n",
              "      <td>5</td>\n",
              "    </tr>\n",
              "    <tr>\n",
              "      <th>2</th>\n",
              "      <td>7.8</td>\n",
              "      <td>0.760</td>\n",
              "      <td>0.04</td>\n",
              "      <td>2.3</td>\n",
              "      <td>0.092</td>\n",
              "      <td>15</td>\n",
              "      <td>54</td>\n",
              "      <td>0.99700</td>\n",
              "      <td>3.26</td>\n",
              "      <td>0.65</td>\n",
              "      <td>9.8</td>\n",
              "      <td>5</td>\n",
              "    </tr>\n",
              "    <tr>\n",
              "      <th>3</th>\n",
              "      <td>11.2</td>\n",
              "      <td>0.280</td>\n",
              "      <td>0.56</td>\n",
              "      <td>1.9</td>\n",
              "      <td>0.075</td>\n",
              "      <td>17</td>\n",
              "      <td>60</td>\n",
              "      <td>0.99800</td>\n",
              "      <td>3.16</td>\n",
              "      <td>0.58</td>\n",
              "      <td>9.8</td>\n",
              "      <td>6</td>\n",
              "    </tr>\n",
              "    <tr>\n",
              "      <th>4</th>\n",
              "      <td>7.4</td>\n",
              "      <td>0.700</td>\n",
              "      <td>0.00</td>\n",
              "      <td>1.9</td>\n",
              "      <td>0.076</td>\n",
              "      <td>11</td>\n",
              "      <td>34</td>\n",
              "      <td>0.99780</td>\n",
              "      <td>3.51</td>\n",
              "      <td>0.56</td>\n",
              "      <td>9.4</td>\n",
              "      <td>5</td>\n",
              "    </tr>\n",
              "    <tr>\n",
              "      <th>...</th>\n",
              "      <td>...</td>\n",
              "      <td>...</td>\n",
              "      <td>...</td>\n",
              "      <td>...</td>\n",
              "      <td>...</td>\n",
              "      <td>...</td>\n",
              "      <td>...</td>\n",
              "      <td>...</td>\n",
              "      <td>...</td>\n",
              "      <td>...</td>\n",
              "      <td>...</td>\n",
              "      <td>...</td>\n",
              "    </tr>\n",
              "    <tr>\n",
              "      <th>1594</th>\n",
              "      <td>6.2</td>\n",
              "      <td>0.600</td>\n",
              "      <td>0.08</td>\n",
              "      <td>2.0</td>\n",
              "      <td>0.090</td>\n",
              "      <td>32</td>\n",
              "      <td>44</td>\n",
              "      <td>0.99490</td>\n",
              "      <td>3.45</td>\n",
              "      <td>0.58</td>\n",
              "      <td>10.5</td>\n",
              "      <td>5</td>\n",
              "    </tr>\n",
              "    <tr>\n",
              "      <th>1595</th>\n",
              "      <td>5.9</td>\n",
              "      <td>0.550</td>\n",
              "      <td>0.10</td>\n",
              "      <td>2.2</td>\n",
              "      <td>0.062</td>\n",
              "      <td>39</td>\n",
              "      <td>51</td>\n",
              "      <td>0.99512</td>\n",
              "      <td>3.52</td>\n",
              "      <td>0.76</td>\n",
              "      <td>11.2</td>\n",
              "      <td>6</td>\n",
              "    </tr>\n",
              "    <tr>\n",
              "      <th>1596</th>\n",
              "      <td>6.3</td>\n",
              "      <td>0.510</td>\n",
              "      <td>0.13</td>\n",
              "      <td>2.3</td>\n",
              "      <td>0.076</td>\n",
              "      <td>29</td>\n",
              "      <td>40</td>\n",
              "      <td>0.99574</td>\n",
              "      <td>3.42</td>\n",
              "      <td>0.75</td>\n",
              "      <td>11.0</td>\n",
              "      <td>6</td>\n",
              "    </tr>\n",
              "    <tr>\n",
              "      <th>1597</th>\n",
              "      <td>5.9</td>\n",
              "      <td>0.645</td>\n",
              "      <td>0.12</td>\n",
              "      <td>2.0</td>\n",
              "      <td>0.075</td>\n",
              "      <td>32</td>\n",
              "      <td>44</td>\n",
              "      <td>0.99547</td>\n",
              "      <td>3.57</td>\n",
              "      <td>0.71</td>\n",
              "      <td>10.2</td>\n",
              "      <td>5</td>\n",
              "    </tr>\n",
              "    <tr>\n",
              "      <th>1598</th>\n",
              "      <td>6.0</td>\n",
              "      <td>0.310</td>\n",
              "      <td>0.47</td>\n",
              "      <td>3.6</td>\n",
              "      <td>0.067</td>\n",
              "      <td>18</td>\n",
              "      <td>42</td>\n",
              "      <td>0.99549</td>\n",
              "      <td>3.39</td>\n",
              "      <td>0.66</td>\n",
              "      <td>11.0</td>\n",
              "      <td>6</td>\n",
              "    </tr>\n",
              "  </tbody>\n",
              "</table>\n",
              "<p>1599 rows × 12 columns</p>\n",
              "</div>"
            ],
            "text/plain": [
              "      fixed acidity  volatile acidity  citric acid  ...  sulphates  alcohol  quality\n",
              "0               7.4             0.700         0.00  ...       0.56      9.4        5\n",
              "1               7.8             0.880         0.00  ...       0.68      9.8        5\n",
              "2               7.8             0.760         0.04  ...       0.65      9.8        5\n",
              "3              11.2             0.280         0.56  ...       0.58      9.8        6\n",
              "4               7.4             0.700         0.00  ...       0.56      9.4        5\n",
              "...             ...               ...          ...  ...        ...      ...      ...\n",
              "1594            6.2             0.600         0.08  ...       0.58     10.5        5\n",
              "1595            5.9             0.550         0.10  ...       0.76     11.2        6\n",
              "1596            6.3             0.510         0.13  ...       0.75     11.0        6\n",
              "1597            5.9             0.645         0.12  ...       0.71     10.2        5\n",
              "1598            6.0             0.310         0.47  ...       0.66     11.0        6\n",
              "\n",
              "[1599 rows x 12 columns]"
            ]
          },
          "metadata": {
            "tags": []
          }
        }
      ]
    },
    {
      "cell_type": "markdown",
      "metadata": {
        "colab_type": "text",
        "id": "YA0L1jCDobWS"
      },
      "source": [
        "이제 데이터프레임을 입력 변수와 정답 셋(클래스 레이블)으로 나누는 함수를 작성하겠습니다.<br>\n",
        "<b>generate_data</b>함수는 데이터프레임 객체와 테스트 셋 비율을 입력으로 받아, 네 개의 numpy array를 반환합니다. 트레이닝 셋과 테스트 셋의 비율은 training_set_ratio에 의해 결정됩니다.\n",
        "* Function : generate_data\n",
        " * 입력\n",
        "     * pd.DataFrame : df\n",
        "     * double : training_set_ratio  \n",
        " * 출력\n",
        "     * np.array : X_train\n",
        "     * np.array : Y_train\n",
        "     * np.array : X_test\n",
        "     * np.array : Y_test\n",
        "     \n"
      ]
    },
    {
      "cell_type": "code",
      "metadata": {
        "colab_type": "code",
        "id": "sHHRgjpWobWT",
        "colab": {}
      },
      "source": [
        "#####################################################\n",
        "from sklearn.datasets import load_iris\n",
        "from sklearn.model_selection import train_test_split\n",
        "def generate_data(df, t_r):\n",
        "    data = df.iloc[:,0:11]\n",
        "    target = df.iloc[:,11:]\n",
        "    target = target.values.reshape((target.shape[0],))\n",
        "    X_train, X_test, Y_train, Y_test = train_test_split(data, target, test_size=(1-t_r), shuffle=True, stratify=target, random_state=34)\n",
        "    return X_train.values, Y_train, X_test.values, Y_test\n",
        "#####################################################"
      ],
      "execution_count": 0,
      "outputs": []
    },
    {
      "cell_type": "code",
      "metadata": {
        "colab_type": "code",
        "id": "A-kAXFUkobWV",
        "colab": {}
      },
      "source": [
        "x_train, y_train, x_test, y_test = generate_data(white_wine, 0.7)"
      ],
      "execution_count": 0,
      "outputs": []
    },
    {
      "cell_type": "code",
      "metadata": {
        "id": "rN8ZcGqjcs4f",
        "colab_type": "code",
        "outputId": "ab9809a6-36fa-4e99-dacf-f2d610c70159",
        "colab": {
          "base_uri": "https://localhost:8080/",
          "height": 34
        }
      },
      "source": [
        "x_train.shape"
      ],
      "execution_count": 12,
      "outputs": [
        {
          "output_type": "execute_result",
          "data": {
            "text/plain": [
              "(3428, 11)"
            ]
          },
          "metadata": {
            "tags": []
          },
          "execution_count": 12
        }
      ]
    },
    {
      "cell_type": "code",
      "metadata": {
        "id": "K9ZPalH-L0Mj",
        "colab_type": "code",
        "colab": {
          "base_uri": "https://localhost:8080/",
          "height": 351
        },
        "outputId": "2fa978c5-48e9-4c0b-d6e2-ceecf43819b0"
      },
      "source": [
        "white_wine.info()"
      ],
      "execution_count": 145,
      "outputs": [
        {
          "output_type": "stream",
          "text": [
            "<class 'pandas.core.frame.DataFrame'>\n",
            "RangeIndex: 4898 entries, 0 to 4897\n",
            "Data columns (total 12 columns):\n",
            " #   Column                Non-Null Count  Dtype  \n",
            "---  ------                --------------  -----  \n",
            " 0   fixed acidity         4898 non-null   float64\n",
            " 1   volatile acidity      4898 non-null   float64\n",
            " 2   citric acid           4898 non-null   float64\n",
            " 3   residual sugar        4898 non-null   float64\n",
            " 4   chlorides             4898 non-null   float64\n",
            " 5   free sulfur dioxide   4898 non-null   float64\n",
            " 6   total sulfur dioxide  4898 non-null   float64\n",
            " 7   density               4898 non-null   float64\n",
            " 8   pH                    4898 non-null   float64\n",
            " 9   sulphates             4898 non-null   float64\n",
            " 10  alcohol               4898 non-null   float64\n",
            " 11  quality               4898 non-null   int64  \n",
            "dtypes: float64(11), int64(1)\n",
            "memory usage: 459.3 KB\n"
          ],
          "name": "stdout"
        }
      ]
    },
    {
      "cell_type": "code",
      "metadata": {
        "id": "mUab75slblJA",
        "colab_type": "code",
        "outputId": "4f914f74-8d5b-48bf-c54e-5a16f000736f",
        "colab": {
          "base_uri": "https://localhost:8080/",
          "height": 34
        }
      },
      "source": [
        "display(y_train)"
      ],
      "execution_count": 13,
      "outputs": [
        {
          "output_type": "display_data",
          "data": {
            "text/plain": [
              "array([7, 6, 5, ..., 7, 8, 6])"
            ]
          },
          "metadata": {
            "tags": []
          }
        }
      ]
    },
    {
      "cell_type": "code",
      "metadata": {
        "id": "UzzAeXKgdLnw",
        "colab_type": "code",
        "outputId": "0a312813-18da-42f9-90eb-439384d4c54a",
        "colab": {
          "base_uri": "https://localhost:8080/",
          "height": 34
        }
      },
      "source": [
        "y_train.shape"
      ],
      "execution_count": 14,
      "outputs": [
        {
          "output_type": "execute_result",
          "data": {
            "text/plain": [
              "(3428,)"
            ]
          },
          "metadata": {
            "tags": []
          },
          "execution_count": 14
        }
      ]
    },
    {
      "cell_type": "markdown",
      "metadata": {
        "colab_type": "text",
        "id": "ctr0KTQ7obWX"
      },
      "source": [
        "작성한 함수를 호출하여 화이트 와인 데이터에 대해 트레이닝 셋과 테스트 셋의 입력과 정답이 적절하게 생성되었는지 확인합니다.\n",
        "\n",
        "---"
      ]
    },
    {
      "cell_type": "markdown",
      "metadata": {
        "colab_type": "text",
        "id": "FWOKgPSaobWY"
      },
      "source": [
        "# 3. 케라스를 이용한 모델 생성, 학습, 테스트\n",
        "입력 데이터와 정답 셋이 만들어졌으니 케라스를 사용하여 각 데이터에 대한 분류기를 생성하고, 트레이닝 셋으로 학습시킨 뒤 테스트 정확도를 관찰합니다."
      ]
    },
    {
      "cell_type": "markdown",
      "metadata": {
        "colab_type": "text",
        "id": "FO4OxZuhobWZ"
      },
      "source": [
        "# 과제\n",
        "### 1. 화이트 와인 분류 모델과 레드 와인 분류 모델 설계 및 학습\n",
        "* 하나의 히든 레이어에 32개의 노드를 가진 인공신경망 모델 생성 및 모델 학습\n",
        "* 트레이닝 Epoch에 따라 Loss의 변화를 그래프로 시각화\n",
        "* 테스트 셋에 대한 정확도 기록"
      ]
    },
    {
      "cell_type": "code",
      "metadata": {
        "id": "UBUuMAxu5xgQ",
        "colab_type": "code",
        "colab": {}
      },
      "source": [
        "white_x_train,white_y_train,white_x_test,white_y_test = generate_data(white_wine, 0.7)\n",
        "red_x_train,red_y_train,red_x_test,red_y_test = generate_data(red_wine, 0.7)"
      ],
      "execution_count": 0,
      "outputs": []
    },
    {
      "cell_type": "code",
      "metadata": {
        "id": "VmRf2ouPcUUy",
        "colab_type": "code",
        "colab": {}
      },
      "source": [
        "import tensorflow as tf\n",
        "from tensorflow.keras import datasets, layers, models"
      ],
      "execution_count": 0,
      "outputs": []
    },
    {
      "cell_type": "code",
      "metadata": {
        "colab_type": "code",
        "id": "gE8UhHrNobWZ",
        "colab": {}
      },
      "source": [
        "##########################################################\n",
        "model = models.Sequential()\n",
        "model.add(layers.Dense(units=32,input_dim=11,activation='relu'))\n",
        "model.add(layers.Dense(units=10, activation='softmax'))\n",
        "\n",
        "###########################################################"
      ],
      "execution_count": 0,
      "outputs": []
    },
    {
      "cell_type": "code",
      "metadata": {
        "id": "RCzyK5mpp8YD",
        "colab_type": "code",
        "outputId": "9ee8dd26-9b5a-46a3-8215-e3be7792464e",
        "colab": {
          "base_uri": "https://localhost:8080/",
          "height": 228
        }
      },
      "source": [
        "model.compile(optimizer='adam',\n",
        "              loss='sparse_categorical_crossentropy',\n",
        "              metrics=['accuracy'])\n",
        "model.summary()"
      ],
      "execution_count": 149,
      "outputs": [
        {
          "output_type": "stream",
          "text": [
            "Model: \"sequential_18\"\n",
            "_________________________________________________________________\n",
            "Layer (type)                 Output Shape              Param #   \n",
            "=================================================================\n",
            "dense_54 (Dense)             (None, 32)                384       \n",
            "_________________________________________________________________\n",
            "dense_55 (Dense)             (None, 10)                330       \n",
            "=================================================================\n",
            "Total params: 714\n",
            "Trainable params: 714\n",
            "Non-trainable params: 0\n",
            "_________________________________________________________________\n"
          ],
          "name": "stdout"
        }
      ]
    },
    {
      "cell_type": "code",
      "metadata": {
        "id": "DUDkHOrQV26c",
        "colab_type": "code",
        "colab": {}
      },
      "source": [
        "from matplotlib import pyplot as plt"
      ],
      "execution_count": 0,
      "outputs": []
    },
    {
      "cell_type": "code",
      "metadata": {
        "id": "R-hIEkILc8So",
        "colab_type": "code",
        "outputId": "07f96400-d565-497f-df2e-0d63d453234c",
        "colab": {
          "base_uri": "https://localhost:8080/",
          "height": 1000
        }
      },
      "source": [
        "#white_wine에 대한 train\n",
        "history = model.fit(white_x_train, white_y_train, batch_size = 10, epochs = 100)\n",
        "plt.plot(history.history['loss'])\n",
        "plt.legend(['loss'], loc = 'upper left')\n",
        "plt.show()"
      ],
      "execution_count": 151,
      "outputs": [
        {
          "output_type": "stream",
          "text": [
            "Epoch 1/100\n",
            "343/343 [==============================] - 0s 1ms/step - loss: 5.9946 - accuracy: 0.4005\n",
            "Epoch 2/100\n",
            "343/343 [==============================] - 0s 1ms/step - loss: 1.6292 - accuracy: 0.4487\n",
            "Epoch 3/100\n",
            "343/343 [==============================] - 0s 1ms/step - loss: 1.3936 - accuracy: 0.4562\n",
            "Epoch 4/100\n",
            "343/343 [==============================] - 0s 1ms/step - loss: 1.2815 - accuracy: 0.4656\n",
            "Epoch 5/100\n",
            "343/343 [==============================] - 0s 1ms/step - loss: 1.2777 - accuracy: 0.4595\n",
            "Epoch 6/100\n",
            "343/343 [==============================] - 0s 1ms/step - loss: 1.2548 - accuracy: 0.4597\n",
            "Epoch 7/100\n",
            "343/343 [==============================] - 0s 1ms/step - loss: 1.2553 - accuracy: 0.4729\n",
            "Epoch 8/100\n",
            "343/343 [==============================] - 0s 1ms/step - loss: 1.2300 - accuracy: 0.4813\n",
            "Epoch 9/100\n",
            "343/343 [==============================] - 0s 1ms/step - loss: 1.2367 - accuracy: 0.4726\n",
            "Epoch 10/100\n",
            "343/343 [==============================] - 0s 1ms/step - loss: 1.2291 - accuracy: 0.4781\n",
            "Epoch 11/100\n",
            "343/343 [==============================] - 0s 1ms/step - loss: 1.2161 - accuracy: 0.4749\n",
            "Epoch 12/100\n",
            "343/343 [==============================] - 0s 1ms/step - loss: 1.2118 - accuracy: 0.4807\n",
            "Epoch 13/100\n",
            "343/343 [==============================] - 0s 1ms/step - loss: 1.1967 - accuracy: 0.4907\n",
            "Epoch 14/100\n",
            "343/343 [==============================] - 0s 1ms/step - loss: 1.1949 - accuracy: 0.4845\n",
            "Epoch 15/100\n",
            "343/343 [==============================] - 0s 1ms/step - loss: 1.1972 - accuracy: 0.4816\n",
            "Epoch 16/100\n",
            "343/343 [==============================] - 0s 1ms/step - loss: 1.1907 - accuracy: 0.5044\n",
            "Epoch 17/100\n",
            "343/343 [==============================] - 0s 1ms/step - loss: 1.2024 - accuracy: 0.4775\n",
            "Epoch 18/100\n",
            "343/343 [==============================] - 0s 1ms/step - loss: 1.1844 - accuracy: 0.4883\n",
            "Epoch 19/100\n",
            "343/343 [==============================] - 0s 1ms/step - loss: 1.2054 - accuracy: 0.4866\n",
            "Epoch 20/100\n",
            "343/343 [==============================] - 0s 1ms/step - loss: 1.1714 - accuracy: 0.4939\n",
            "Epoch 21/100\n",
            "343/343 [==============================] - 0s 1ms/step - loss: 1.1722 - accuracy: 0.4875\n",
            "Epoch 22/100\n",
            "343/343 [==============================] - 0s 1ms/step - loss: 1.1709 - accuracy: 0.4927\n",
            "Epoch 23/100\n",
            "343/343 [==============================] - 0s 1ms/step - loss: 1.1676 - accuracy: 0.4968\n",
            "Epoch 24/100\n",
            "343/343 [==============================] - 0s 1ms/step - loss: 1.1636 - accuracy: 0.4901\n",
            "Epoch 25/100\n",
            "343/343 [==============================] - 0s 1ms/step - loss: 1.1746 - accuracy: 0.4883\n",
            "Epoch 26/100\n",
            "343/343 [==============================] - 0s 1ms/step - loss: 1.1584 - accuracy: 0.4959\n",
            "Epoch 27/100\n",
            "343/343 [==============================] - 0s 1ms/step - loss: 1.1469 - accuracy: 0.5050\n",
            "Epoch 28/100\n",
            "343/343 [==============================] - 0s 1ms/step - loss: 1.1628 - accuracy: 0.5038\n",
            "Epoch 29/100\n",
            "343/343 [==============================] - 0s 1ms/step - loss: 1.1760 - accuracy: 0.4956\n",
            "Epoch 30/100\n",
            "343/343 [==============================] - 0s 1ms/step - loss: 1.1523 - accuracy: 0.4977\n",
            "Epoch 31/100\n",
            "343/343 [==============================] - 0s 1ms/step - loss: 1.1592 - accuracy: 0.5012\n",
            "Epoch 32/100\n",
            "343/343 [==============================] - 0s 1ms/step - loss: 1.1478 - accuracy: 0.5090\n",
            "Epoch 33/100\n",
            "343/343 [==============================] - 0s 1ms/step - loss: 1.1525 - accuracy: 0.5053\n",
            "Epoch 34/100\n",
            "343/343 [==============================] - 0s 1ms/step - loss: 1.1739 - accuracy: 0.4927\n",
            "Epoch 35/100\n",
            "343/343 [==============================] - 0s 1ms/step - loss: 1.1479 - accuracy: 0.4962\n",
            "Epoch 36/100\n",
            "343/343 [==============================] - 0s 1ms/step - loss: 1.1602 - accuracy: 0.5009\n",
            "Epoch 37/100\n",
            "343/343 [==============================] - 0s 1ms/step - loss: 1.1416 - accuracy: 0.4962\n",
            "Epoch 38/100\n",
            "343/343 [==============================] - 0s 1ms/step - loss: 1.1381 - accuracy: 0.5020\n",
            "Epoch 39/100\n",
            "343/343 [==============================] - 0s 1ms/step - loss: 1.1526 - accuracy: 0.4982\n",
            "Epoch 40/100\n",
            "343/343 [==============================] - 0s 1ms/step - loss: 1.1423 - accuracy: 0.5102\n",
            "Epoch 41/100\n",
            "343/343 [==============================] - 0s 1ms/step - loss: 1.1432 - accuracy: 0.5061\n",
            "Epoch 42/100\n",
            "343/343 [==============================] - 0s 1ms/step - loss: 1.1427 - accuracy: 0.5067\n",
            "Epoch 43/100\n",
            "343/343 [==============================] - 0s 1ms/step - loss: 1.1380 - accuracy: 0.5120\n",
            "Epoch 44/100\n",
            "343/343 [==============================] - 0s 1ms/step - loss: 1.1608 - accuracy: 0.4819\n",
            "Epoch 45/100\n",
            "343/343 [==============================] - 0s 1ms/step - loss: 1.1431 - accuracy: 0.5058\n",
            "Epoch 46/100\n",
            "343/343 [==============================] - 0s 1ms/step - loss: 1.1355 - accuracy: 0.5088\n",
            "Epoch 47/100\n",
            "343/343 [==============================] - 0s 1ms/step - loss: 1.1284 - accuracy: 0.5163\n",
            "Epoch 48/100\n",
            "343/343 [==============================] - 0s 1ms/step - loss: 1.1263 - accuracy: 0.5029\n",
            "Epoch 49/100\n",
            "343/343 [==============================] - 0s 1ms/step - loss: 1.1234 - accuracy: 0.5053\n",
            "Epoch 50/100\n",
            "343/343 [==============================] - 0s 1ms/step - loss: 1.1297 - accuracy: 0.5020\n",
            "Epoch 51/100\n",
            "343/343 [==============================] - 0s 1ms/step - loss: 1.1367 - accuracy: 0.5085\n",
            "Epoch 52/100\n",
            "343/343 [==============================] - 0s 1ms/step - loss: 1.1276 - accuracy: 0.5111\n",
            "Epoch 53/100\n",
            "343/343 [==============================] - 0s 1ms/step - loss: 1.1206 - accuracy: 0.5128\n",
            "Epoch 54/100\n",
            "343/343 [==============================] - 0s 1ms/step - loss: 1.1150 - accuracy: 0.5134\n",
            "Epoch 55/100\n",
            "343/343 [==============================] - 0s 1ms/step - loss: 1.1221 - accuracy: 0.5201\n",
            "Epoch 56/100\n",
            "343/343 [==============================] - 0s 1ms/step - loss: 1.1162 - accuracy: 0.5204\n",
            "Epoch 57/100\n",
            "343/343 [==============================] - 0s 1ms/step - loss: 1.1228 - accuracy: 0.5088\n",
            "Epoch 58/100\n",
            "343/343 [==============================] - 0s 1ms/step - loss: 1.1167 - accuracy: 0.5079\n",
            "Epoch 59/100\n",
            "343/343 [==============================] - 0s 1ms/step - loss: 1.1339 - accuracy: 0.5067\n",
            "Epoch 60/100\n",
            "343/343 [==============================] - 0s 1ms/step - loss: 1.1136 - accuracy: 0.5123\n",
            "Epoch 61/100\n",
            "343/343 [==============================] - 0s 1ms/step - loss: 1.1208 - accuracy: 0.5053\n",
            "Epoch 62/100\n",
            "343/343 [==============================] - 0s 1ms/step - loss: 1.1162 - accuracy: 0.5222\n",
            "Epoch 63/100\n",
            "343/343 [==============================] - 0s 1ms/step - loss: 1.1151 - accuracy: 0.5102\n",
            "Epoch 64/100\n",
            "343/343 [==============================] - 0s 1ms/step - loss: 1.1203 - accuracy: 0.5050\n",
            "Epoch 65/100\n",
            "343/343 [==============================] - 0s 1ms/step - loss: 1.1181 - accuracy: 0.5146\n",
            "Epoch 66/100\n",
            "343/343 [==============================] - 0s 1ms/step - loss: 1.1048 - accuracy: 0.5137\n",
            "Epoch 67/100\n",
            "343/343 [==============================] - 0s 1ms/step - loss: 1.1163 - accuracy: 0.5184\n",
            "Epoch 68/100\n",
            "343/343 [==============================] - 0s 1ms/step - loss: 1.1113 - accuracy: 0.5204\n",
            "Epoch 69/100\n",
            "343/343 [==============================] - 0s 1ms/step - loss: 1.1137 - accuracy: 0.5175\n",
            "Epoch 70/100\n",
            "343/343 [==============================] - 0s 1ms/step - loss: 1.1106 - accuracy: 0.5120\n",
            "Epoch 71/100\n",
            "343/343 [==============================] - 0s 1ms/step - loss: 1.1192 - accuracy: 0.5111\n",
            "Epoch 72/100\n",
            "343/343 [==============================] - 0s 1ms/step - loss: 1.1133 - accuracy: 0.5160\n",
            "Epoch 73/100\n",
            "343/343 [==============================] - 0s 1ms/step - loss: 1.1014 - accuracy: 0.5303\n",
            "Epoch 74/100\n",
            "343/343 [==============================] - 0s 1ms/step - loss: 1.1091 - accuracy: 0.5213\n",
            "Epoch 75/100\n",
            "343/343 [==============================] - 0s 1ms/step - loss: 1.1029 - accuracy: 0.5175\n",
            "Epoch 76/100\n",
            "343/343 [==============================] - 0s 1ms/step - loss: 1.1328 - accuracy: 0.5041\n",
            "Epoch 77/100\n",
            "343/343 [==============================] - 0s 1ms/step - loss: 1.1009 - accuracy: 0.5277\n",
            "Epoch 78/100\n",
            "343/343 [==============================] - 0s 1ms/step - loss: 1.1145 - accuracy: 0.5123\n",
            "Epoch 79/100\n",
            "343/343 [==============================] - 0s 1ms/step - loss: 1.1041 - accuracy: 0.5257\n",
            "Epoch 80/100\n",
            "343/343 [==============================] - 0s 1ms/step - loss: 1.1063 - accuracy: 0.5149\n",
            "Epoch 81/100\n",
            "343/343 [==============================] - 0s 1ms/step - loss: 1.0976 - accuracy: 0.5213\n",
            "Epoch 82/100\n",
            "343/343 [==============================] - 0s 1ms/step - loss: 1.1056 - accuracy: 0.5216\n",
            "Epoch 83/100\n",
            "343/343 [==============================] - 0s 1ms/step - loss: 1.0996 - accuracy: 0.5280\n",
            "Epoch 84/100\n",
            "343/343 [==============================] - 0s 1ms/step - loss: 1.0867 - accuracy: 0.5254\n",
            "Epoch 85/100\n",
            "343/343 [==============================] - 0s 1ms/step - loss: 1.0965 - accuracy: 0.5236\n",
            "Epoch 86/100\n",
            "343/343 [==============================] - 0s 1ms/step - loss: 1.0968 - accuracy: 0.5172\n",
            "Epoch 87/100\n",
            "343/343 [==============================] - 0s 1ms/step - loss: 1.0983 - accuracy: 0.5324\n",
            "Epoch 88/100\n",
            "343/343 [==============================] - 0s 1ms/step - loss: 1.0951 - accuracy: 0.5306\n",
            "Epoch 89/100\n",
            "343/343 [==============================] - 0s 1ms/step - loss: 1.0931 - accuracy: 0.5198\n",
            "Epoch 90/100\n",
            "343/343 [==============================] - 0s 1ms/step - loss: 1.0913 - accuracy: 0.5330\n",
            "Epoch 91/100\n",
            "343/343 [==============================] - 0s 1ms/step - loss: 1.0960 - accuracy: 0.5222\n",
            "Epoch 92/100\n",
            "343/343 [==============================] - 0s 1ms/step - loss: 1.0910 - accuracy: 0.5201\n",
            "Epoch 93/100\n",
            "343/343 [==============================] - 0s 1ms/step - loss: 1.0888 - accuracy: 0.5228\n",
            "Epoch 94/100\n",
            "343/343 [==============================] - 0s 1ms/step - loss: 1.1000 - accuracy: 0.5195\n",
            "Epoch 95/100\n",
            "343/343 [==============================] - 0s 1ms/step - loss: 1.0877 - accuracy: 0.5239\n",
            "Epoch 96/100\n",
            "343/343 [==============================] - 0s 1ms/step - loss: 1.0878 - accuracy: 0.5268\n",
            "Epoch 97/100\n",
            "343/343 [==============================] - 0s 1ms/step - loss: 1.0835 - accuracy: 0.5359\n",
            "Epoch 98/100\n",
            "343/343 [==============================] - 0s 1ms/step - loss: 1.0930 - accuracy: 0.5201\n",
            "Epoch 99/100\n",
            "343/343 [==============================] - 0s 1ms/step - loss: 1.0891 - accuracy: 0.5251\n",
            "Epoch 100/100\n",
            "343/343 [==============================] - 0s 1ms/step - loss: 1.0874 - accuracy: 0.5292\n"
          ],
          "name": "stdout"
        },
        {
          "output_type": "display_data",
          "data": {
            "image/png": "[encoded data removed]",
            "text/plain": [
              "<Figure size 432x288 with 1 Axes>"
            ]
          },
          "metadata": {
            "tags": [],
            "needs_background": "light"
          }
        }
      ]
    },
    {
      "cell_type": "code",
      "metadata": {
        "id": "J6k5t626X8P1",
        "colab_type": "code",
        "outputId": "a1cff587-78e4-4ec7-c6e3-9d824977d3c3",
        "colab": {
          "base_uri": "https://localhost:8080/",
          "height": 52
        }
      },
      "source": [
        "#white wine에 대한 테스트\n",
        "results = model.evaluate(white_x_test, white_y_test)\n",
        "print('Test accuracy: ', results[1])"
      ],
      "execution_count": 152,
      "outputs": [
        {
          "output_type": "stream",
          "text": [
            "46/46 [==============================] - 0s 995us/step - loss: 1.1558 - accuracy: 0.5116\n",
            "Test accuracy:  0.5115646123886108\n"
          ],
          "name": "stdout"
        }
      ]
    },
    {
      "cell_type": "code",
      "metadata": {
        "id": "k9eCSUL8Pxhp",
        "colab_type": "code",
        "colab": {}
      },
      "source": [
        "##########################################################\n",
        "model = models.Sequential()\n",
        "model.add(layers.Dense(units=32,input_dim=11,activation='relu'))\n",
        "model.add(layers.Dense(units=10, activation='softmax'))\n",
        "\n",
        "###########################################################"
      ],
      "execution_count": 0,
      "outputs": []
    },
    {
      "cell_type": "code",
      "metadata": {
        "id": "e0kAEllBP3Gl",
        "colab_type": "code",
        "colab": {
          "base_uri": "https://localhost:8080/",
          "height": 228
        },
        "outputId": "897e4409-6f99-4454-dd57-b953acd68fad"
      },
      "source": [
        "model.compile(optimizer='adam',\n",
        "              loss='sparse_categorical_crossentropy',\n",
        "              metrics=['accuracy'])\n",
        "model.summary()"
      ],
      "execution_count": 154,
      "outputs": [
        {
          "output_type": "stream",
          "text": [
            "Model: \"sequential_19\"\n",
            "_________________________________________________________________\n",
            "Layer (type)                 Output Shape              Param #   \n",
            "=================================================================\n",
            "dense_56 (Dense)             (None, 32)                384       \n",
            "_________________________________________________________________\n",
            "dense_57 (Dense)             (None, 10)                330       \n",
            "=================================================================\n",
            "Total params: 714\n",
            "Trainable params: 714\n",
            "Non-trainable params: 0\n",
            "_________________________________________________________________\n"
          ],
          "name": "stdout"
        }
      ]
    },
    {
      "cell_type": "code",
      "metadata": {
        "id": "ls6ciNrtYpQ6",
        "colab_type": "code",
        "outputId": "5752a5e7-d853-46ca-c2f4-4032d942caa4",
        "colab": {
          "base_uri": "https://localhost:8080/",
          "height": 1000
        }
      },
      "source": [
        "#red_wine에 대한 train\n",
        "history = model.fit(red_x_train, red_y_train, batch_size = 10, epochs = 100)\n",
        "plt.plot(history.history['loss'])\n",
        "plt.legend(['loss'], loc = 'upper left')\n",
        "plt.show()"
      ],
      "execution_count": 155,
      "outputs": [
        {
          "output_type": "stream",
          "text": [
            "Epoch 1/100\n",
            "112/112 [==============================] - 0s 1ms/step - loss: 5.0357 - accuracy: 0.3494\n",
            "Epoch 2/100\n",
            "112/112 [==============================] - 0s 1ms/step - loss: 1.2621 - accuracy: 0.4665\n",
            "Epoch 3/100\n",
            "112/112 [==============================] - 0s 1ms/step - loss: 1.2215 - accuracy: 0.4924\n",
            "Epoch 4/100\n",
            "112/112 [==============================] - 0s 1ms/step - loss: 1.1762 - accuracy: 0.5156\n",
            "Epoch 5/100\n",
            "112/112 [==============================] - 0s 1ms/step - loss: 1.1568 - accuracy: 0.5147\n",
            "Epoch 6/100\n",
            "112/112 [==============================] - 0s 1ms/step - loss: 1.1460 - accuracy: 0.5103\n",
            "Epoch 7/100\n",
            "112/112 [==============================] - 0s 1ms/step - loss: 1.1386 - accuracy: 0.5112\n",
            "Epoch 8/100\n",
            "112/112 [==============================] - 0s 1ms/step - loss: 1.1207 - accuracy: 0.5201\n",
            "Epoch 9/100\n",
            "112/112 [==============================] - 0s 1ms/step - loss: 1.1232 - accuracy: 0.5308\n",
            "Epoch 10/100\n",
            "112/112 [==============================] - 0s 1ms/step - loss: 1.1099 - accuracy: 0.5290\n",
            "Epoch 11/100\n",
            "112/112 [==============================] - 0s 1ms/step - loss: 1.1073 - accuracy: 0.5326\n",
            "Epoch 12/100\n",
            "112/112 [==============================] - 0s 1ms/step - loss: 1.1091 - accuracy: 0.5237\n",
            "Epoch 13/100\n",
            "112/112 [==============================] - 0s 1ms/step - loss: 1.0982 - accuracy: 0.5317\n",
            "Epoch 14/100\n",
            "112/112 [==============================] - 0s 1ms/step - loss: 1.0903 - accuracy: 0.5398\n",
            "Epoch 15/100\n",
            "112/112 [==============================] - 0s 1ms/step - loss: 1.0845 - accuracy: 0.5326\n",
            "Epoch 16/100\n",
            "112/112 [==============================] - 0s 1ms/step - loss: 1.0750 - accuracy: 0.5639\n",
            "Epoch 17/100\n",
            "112/112 [==============================] - 0s 1ms/step - loss: 1.0708 - accuracy: 0.5398\n",
            "Epoch 18/100\n",
            "112/112 [==============================] - 0s 1ms/step - loss: 1.0869 - accuracy: 0.5389\n",
            "Epoch 19/100\n",
            "112/112 [==============================] - 0s 1ms/step - loss: 1.0679 - accuracy: 0.5630\n",
            "Epoch 20/100\n",
            "112/112 [==============================] - 0s 1ms/step - loss: 1.0616 - accuracy: 0.5567\n",
            "Epoch 21/100\n",
            "112/112 [==============================] - 0s 1ms/step - loss: 1.0786 - accuracy: 0.5344\n",
            "Epoch 22/100\n",
            "112/112 [==============================] - 0s 1ms/step - loss: 1.0625 - accuracy: 0.5514\n",
            "Epoch 23/100\n",
            "112/112 [==============================] - 0s 1ms/step - loss: 1.0396 - accuracy: 0.5523\n",
            "Epoch 24/100\n",
            "112/112 [==============================] - 0s 1ms/step - loss: 1.0472 - accuracy: 0.5585\n",
            "Epoch 25/100\n",
            "112/112 [==============================] - 0s 1ms/step - loss: 1.0479 - accuracy: 0.5514\n",
            "Epoch 26/100\n",
            "112/112 [==============================] - 0s 1ms/step - loss: 1.0379 - accuracy: 0.5648\n",
            "Epoch 27/100\n",
            "112/112 [==============================] - 0s 1ms/step - loss: 1.0341 - accuracy: 0.5728\n",
            "Epoch 28/100\n",
            "112/112 [==============================] - 0s 1ms/step - loss: 1.0416 - accuracy: 0.5675\n",
            "Epoch 29/100\n",
            "112/112 [==============================] - 0s 1ms/step - loss: 1.0326 - accuracy: 0.5621\n",
            "Epoch 30/100\n",
            "112/112 [==============================] - 0s 1ms/step - loss: 1.0350 - accuracy: 0.5684\n",
            "Epoch 31/100\n",
            "112/112 [==============================] - 0s 1ms/step - loss: 1.0256 - accuracy: 0.5621\n",
            "Epoch 32/100\n",
            "112/112 [==============================] - 0s 1ms/step - loss: 1.0271 - accuracy: 0.5585\n",
            "Epoch 33/100\n",
            "112/112 [==============================] - 0s 1ms/step - loss: 1.0237 - accuracy: 0.5585\n",
            "Epoch 34/100\n",
            "112/112 [==============================] - 0s 1ms/step - loss: 1.0308 - accuracy: 0.5666\n",
            "Epoch 35/100\n",
            "112/112 [==============================] - 0s 1ms/step - loss: 1.0430 - accuracy: 0.5541\n",
            "Epoch 36/100\n",
            "112/112 [==============================] - 0s 1ms/step - loss: 1.0189 - accuracy: 0.5693\n",
            "Epoch 37/100\n",
            "112/112 [==============================] - 0s 1ms/step - loss: 1.0260 - accuracy: 0.5559\n",
            "Epoch 38/100\n",
            "112/112 [==============================] - 0s 1ms/step - loss: 1.0278 - accuracy: 0.5657\n",
            "Epoch 39/100\n",
            "112/112 [==============================] - 0s 1ms/step - loss: 1.0101 - accuracy: 0.5764\n",
            "Epoch 40/100\n",
            "112/112 [==============================] - 0s 1ms/step - loss: 1.0145 - accuracy: 0.5684\n",
            "Epoch 41/100\n",
            "112/112 [==============================] - 0s 1ms/step - loss: 0.9996 - accuracy: 0.5728\n",
            "Epoch 42/100\n",
            "112/112 [==============================] - 0s 1ms/step - loss: 0.9989 - accuracy: 0.5719\n",
            "Epoch 43/100\n",
            "112/112 [==============================] - 0s 1ms/step - loss: 1.0098 - accuracy: 0.5728\n",
            "Epoch 44/100\n",
            "112/112 [==============================] - 0s 1ms/step - loss: 1.0063 - accuracy: 0.5782\n",
            "Epoch 45/100\n",
            "112/112 [==============================] - 0s 1ms/step - loss: 1.0033 - accuracy: 0.5737\n",
            "Epoch 46/100\n",
            "112/112 [==============================] - 0s 1ms/step - loss: 0.9882 - accuracy: 0.5764\n",
            "Epoch 47/100\n",
            "112/112 [==============================] - 0s 1ms/step - loss: 0.9973 - accuracy: 0.5657\n",
            "Epoch 48/100\n",
            "112/112 [==============================] - 0s 1ms/step - loss: 0.9929 - accuracy: 0.5675\n",
            "Epoch 49/100\n",
            "112/112 [==============================] - 0s 1ms/step - loss: 1.0043 - accuracy: 0.5728\n",
            "Epoch 50/100\n",
            "112/112 [==============================] - 0s 1ms/step - loss: 0.9858 - accuracy: 0.5719\n",
            "Epoch 51/100\n",
            "112/112 [==============================] - 0s 1ms/step - loss: 0.9970 - accuracy: 0.5621\n",
            "Epoch 52/100\n",
            "112/112 [==============================] - 0s 1ms/step - loss: 0.9914 - accuracy: 0.5845\n",
            "Epoch 53/100\n",
            "112/112 [==============================] - 0s 1ms/step - loss: 0.9964 - accuracy: 0.5710\n",
            "Epoch 54/100\n",
            "112/112 [==============================] - 0s 1ms/step - loss: 0.9939 - accuracy: 0.5657\n",
            "Epoch 55/100\n",
            "112/112 [==============================] - 0s 1ms/step - loss: 0.9940 - accuracy: 0.5809\n",
            "Epoch 56/100\n",
            "112/112 [==============================] - 0s 1ms/step - loss: 0.9763 - accuracy: 0.5907\n",
            "Epoch 57/100\n",
            "112/112 [==============================] - 0s 1ms/step - loss: 0.9927 - accuracy: 0.5880\n",
            "Epoch 58/100\n",
            "112/112 [==============================] - 0s 1ms/step - loss: 0.9861 - accuracy: 0.5648\n",
            "Epoch 59/100\n",
            "112/112 [==============================] - 0s 1ms/step - loss: 0.9695 - accuracy: 0.5943\n",
            "Epoch 60/100\n",
            "112/112 [==============================] - 0s 1ms/step - loss: 0.9814 - accuracy: 0.5791\n",
            "Epoch 61/100\n",
            "112/112 [==============================] - 0s 1ms/step - loss: 0.9804 - accuracy: 0.5818\n",
            "Epoch 62/100\n",
            "112/112 [==============================] - 0s 1ms/step - loss: 0.9820 - accuracy: 0.5764\n",
            "Epoch 63/100\n",
            "112/112 [==============================] - 0s 1ms/step - loss: 0.9688 - accuracy: 0.5970\n",
            "Epoch 64/100\n",
            "112/112 [==============================] - 0s 1ms/step - loss: 0.9858 - accuracy: 0.5755\n",
            "Epoch 65/100\n",
            "112/112 [==============================] - 0s 1ms/step - loss: 0.9845 - accuracy: 0.5800\n",
            "Epoch 66/100\n",
            "112/112 [==============================] - 0s 1ms/step - loss: 0.9813 - accuracy: 0.5728\n",
            "Epoch 67/100\n",
            "112/112 [==============================] - 0s 1ms/step - loss: 0.9747 - accuracy: 0.5666\n",
            "Epoch 68/100\n",
            "112/112 [==============================] - 0s 1ms/step - loss: 0.9673 - accuracy: 0.5800\n",
            "Epoch 69/100\n",
            "112/112 [==============================] - 0s 1ms/step - loss: 0.9724 - accuracy: 0.5853\n",
            "Epoch 70/100\n",
            "112/112 [==============================] - 0s 1ms/step - loss: 0.9707 - accuracy: 0.5782\n",
            "Epoch 71/100\n",
            "112/112 [==============================] - 0s 1ms/step - loss: 0.9575 - accuracy: 0.5800\n",
            "Epoch 72/100\n",
            "112/112 [==============================] - 0s 1ms/step - loss: 0.9631 - accuracy: 0.5710\n",
            "Epoch 73/100\n",
            "112/112 [==============================] - 0s 1ms/step - loss: 0.9697 - accuracy: 0.5827\n",
            "Epoch 74/100\n",
            "112/112 [==============================] - 0s 1ms/step - loss: 0.9586 - accuracy: 0.5782\n",
            "Epoch 75/100\n",
            "112/112 [==============================] - 0s 1ms/step - loss: 0.9690 - accuracy: 0.5764\n",
            "Epoch 76/100\n",
            "112/112 [==============================] - 0s 1ms/step - loss: 0.9643 - accuracy: 0.5827\n",
            "Epoch 77/100\n",
            "112/112 [==============================] - 0s 1ms/step - loss: 0.9678 - accuracy: 0.5746\n",
            "Epoch 78/100\n",
            "112/112 [==============================] - 0s 1ms/step - loss: 0.9548 - accuracy: 0.5827\n",
            "Epoch 79/100\n",
            "112/112 [==============================] - 0s 1ms/step - loss: 0.9674 - accuracy: 0.5684\n",
            "Epoch 80/100\n",
            "112/112 [==============================] - 0s 1ms/step - loss: 0.9581 - accuracy: 0.5809\n",
            "Epoch 81/100\n",
            "112/112 [==============================] - 0s 1ms/step - loss: 0.9523 - accuracy: 0.5871\n",
            "Epoch 82/100\n",
            "112/112 [==============================] - 0s 1ms/step - loss: 0.9517 - accuracy: 0.5853\n",
            "Epoch 83/100\n",
            "112/112 [==============================] - 0s 1ms/step - loss: 0.9611 - accuracy: 0.5746\n",
            "Epoch 84/100\n",
            "112/112 [==============================] - 0s 1ms/step - loss: 0.9507 - accuracy: 0.5845\n",
            "Epoch 85/100\n",
            "112/112 [==============================] - 0s 1ms/step - loss: 0.9549 - accuracy: 0.5862\n",
            "Epoch 86/100\n",
            "112/112 [==============================] - 0s 1ms/step - loss: 0.9617 - accuracy: 0.5764\n",
            "Epoch 87/100\n",
            "112/112 [==============================] - 0s 1ms/step - loss: 0.9460 - accuracy: 0.5925\n",
            "Epoch 88/100\n",
            "112/112 [==============================] - 0s 1ms/step - loss: 0.9579 - accuracy: 0.5764\n",
            "Epoch 89/100\n",
            "112/112 [==============================] - 0s 1ms/step - loss: 0.9538 - accuracy: 0.5782\n",
            "Epoch 90/100\n",
            "112/112 [==============================] - 0s 1ms/step - loss: 0.9491 - accuracy: 0.5764\n",
            "Epoch 91/100\n",
            "112/112 [==============================] - 0s 1ms/step - loss: 0.9475 - accuracy: 0.5943\n",
            "Epoch 92/100\n",
            "112/112 [==============================] - 0s 1ms/step - loss: 0.9448 - accuracy: 0.5746\n",
            "Epoch 93/100\n",
            "112/112 [==============================] - 0s 1ms/step - loss: 0.9461 - accuracy: 0.5737\n",
            "Epoch 94/100\n",
            "112/112 [==============================] - 0s 1ms/step - loss: 0.9493 - accuracy: 0.5809\n",
            "Epoch 95/100\n",
            "112/112 [==============================] - 0s 1ms/step - loss: 0.9498 - accuracy: 0.5916\n",
            "Epoch 96/100\n",
            "112/112 [==============================] - 0s 1ms/step - loss: 0.9417 - accuracy: 0.5853\n",
            "Epoch 97/100\n",
            "112/112 [==============================] - 0s 1ms/step - loss: 0.9597 - accuracy: 0.5853\n",
            "Epoch 98/100\n",
            "112/112 [==============================] - 0s 1ms/step - loss: 0.9513 - accuracy: 0.5898\n",
            "Epoch 99/100\n",
            "112/112 [==============================] - 0s 1ms/step - loss: 0.9492 - accuracy: 0.5880\n",
            "Epoch 100/100\n",
            "112/112 [==============================] - 0s 1ms/step - loss: 0.9479 - accuracy: 0.5836\n"
          ],
          "name": "stdout"
        },
        {
          "output_type": "display_data",
          "data": {
            "image/png": "[encoded data removed]",
            "text/plain": [
              "<Figure size 432x288 with 1 Axes>"
            ]
          },
          "metadata": {
            "tags": [],
            "needs_background": "light"
          }
        }
      ]
    },
    {
      "cell_type": "code",
      "metadata": {
        "id": "NdQN-XfyYul_",
        "colab_type": "code",
        "outputId": "6df318c4-30fb-49c1-b70c-0317e459adde",
        "colab": {
          "base_uri": "https://localhost:8080/",
          "height": 52
        }
      },
      "source": [
        "#red wine에 대한 테스트\n",
        "results = model.evaluate(red_x_test, red_y_test)\n",
        "print('Test accuracy: ', results[1])"
      ],
      "execution_count": 156,
      "outputs": [
        {
          "output_type": "stream",
          "text": [
            "15/15 [==============================] - 0s 1ms/step - loss: 0.9589 - accuracy: 0.5917\n",
            "Test accuracy:  0.5916666388511658\n"
          ],
          "name": "stdout"
        }
      ]
    },
    {
      "cell_type": "markdown",
      "metadata": {
        "colab_type": "text",
        "id": "5aI6JweqobWc"
      },
      "source": [
        "### 2. 각 모델의 성능을 향상시킬 수 있는 방법 적용\n",
        "* 하이퍼파라미터를 변경하여 테스트 셋에서의 정확도를 향상시킬 것\n",
        "    * 예) 레이어 수, 노드 수, Learning rate 등\n",
        "* 하이퍼파라미터를 변화시킨 각각의 모델에 대해, 트레이닝 Epoch 당 Loss의 변화를 기록하고 이를 시각화\n",
        "* 그 외 성능을 향상시킬 수 있는 모든 방법을 사용하여 가장 성능이 좋은 모델을 선택\n",
        "    * 예) Dropout, Normalization 등"
      ]
    },
    {
      "cell_type": "code",
      "metadata": {
        "colab_type": "code",
        "id": "H5JOT7FBobWc",
        "colab": {}
      },
      "source": [
        "##########################################################\n",
        "model = models.Sequential()\n",
        "model.add(layers.Dense(units=32,input_dim=11,activation='relu'))\n",
        "model.add(layers.BatchNormalization(momentum=0.99, epsilon=0.001))\n",
        "\n",
        "model.add(layers.Dense(units=50,activation='relu'))\n",
        "model.add(layers.BatchNormalization(momentum=0.99, epsilon=0.001))\n",
        "model.add(layers.Dropout(0.5))\n",
        "\n",
        "model.add(layers.Dense(units=100,activation='relu'))\n",
        "model.add(layers.BatchNormalization(momentum=0.99, epsilon=0.001))\n",
        "model.add(layers.Dropout(0.5))\n",
        "\n",
        "model.add(layers.Dense(units=7, activation='softmax'))\n",
        "\n",
        "############################################################"
      ],
      "execution_count": 0,
      "outputs": []
    },
    {
      "cell_type": "code",
      "metadata": {
        "id": "7XUl55C_Y97h",
        "colab_type": "code",
        "outputId": "eeb27af9-c2ae-46b7-bf27-db29527f948b",
        "colab": {
          "base_uri": "https://localhost:8080/",
          "height": 474
        }
      },
      "source": [
        "tf.keras.optimizers.Adam(\n",
        "    learning_rate=0.0005, beta_1=0.9, beta_2=0.999, epsilon=1e-07, amsgrad=True,\n",
        "    name='Adam'\n",
        ")\n",
        "model.compile(optimizer='adam',\n",
        "              loss='sparse_categorical_crossentropy',\n",
        "              metrics=['accuracy'])\n",
        "model.summary()"
      ],
      "execution_count": 162,
      "outputs": [
        {
          "output_type": "stream",
          "text": [
            "Model: \"sequential_21\"\n",
            "_________________________________________________________________\n",
            "Layer (type)                 Output Shape              Param #   \n",
            "=================================================================\n",
            "dense_62 (Dense)             (None, 32)                384       \n",
            "_________________________________________________________________\n",
            "batch_normalization_20 (Batc (None, 32)                128       \n",
            "_________________________________________________________________\n",
            "dense_63 (Dense)             (None, 50)                1650      \n",
            "_________________________________________________________________\n",
            "batch_normalization_21 (Batc (None, 50)                200       \n",
            "_________________________________________________________________\n",
            "dropout_15 (Dropout)         (None, 50)                0         \n",
            "_________________________________________________________________\n",
            "dense_64 (Dense)             (None, 100)               5100      \n",
            "_________________________________________________________________\n",
            "batch_normalization_22 (Batc (None, 100)               400       \n",
            "_________________________________________________________________\n",
            "dropout_16 (Dropout)         (None, 100)               0         \n",
            "_________________________________________________________________\n",
            "dense_65 (Dense)             (None, 7)                 707       \n",
            "=================================================================\n",
            "Total params: 8,569\n",
            "Trainable params: 8,205\n",
            "Non-trainable params: 364\n",
            "_________________________________________________________________\n"
          ],
          "name": "stdout"
        }
      ]
    },
    {
      "cell_type": "code",
      "metadata": {
        "colab_type": "code",
        "outputId": "341146bf-14fc-4170-ff8d-14c3af74eb5a",
        "id": "bKGCMB8aZLnq",
        "colab": {
          "base_uri": "https://localhost:8080/",
          "height": 1000
        }
      },
      "source": [
        "#white_wine에 대한 train\n",
        "new_white_y_train = white_y_train-3\n",
        "new_white_y_test = white_y_test-3\n",
        "history = model.fit(white_x_train, new_white_y_train, batch_size = 50, epochs = 100,validation_data=(white_x_test, new_white_y_test))\n",
        "plt.plot(history.history['loss'])\n",
        "plt.legend(['loss'], loc = 'upper left')\n",
        "plt.show()"
      ],
      "execution_count": 163,
      "outputs": [
        {
          "output_type": "stream",
          "text": [
            "Epoch 1/100\n",
            "69/69 [==============================] - 0s 5ms/step - loss: 2.6306 - accuracy: 0.2097 - val_loss: 1.8246 - val_accuracy: 0.2993\n",
            "Epoch 2/100\n",
            "69/69 [==============================] - 0s 3ms/step - loss: 2.0243 - accuracy: 0.3098 - val_loss: 1.4822 - val_accuracy: 0.4327\n",
            "Epoch 3/100\n",
            "69/69 [==============================] - 0s 3ms/step - loss: 1.7741 - accuracy: 0.3667 - val_loss: 1.3696 - val_accuracy: 0.4435\n",
            "Epoch 4/100\n",
            "69/69 [==============================] - 0s 3ms/step - loss: 1.5563 - accuracy: 0.4119 - val_loss: 1.2804 - val_accuracy: 0.4463\n",
            "Epoch 5/100\n",
            "69/69 [==============================] - 0s 3ms/step - loss: 1.4597 - accuracy: 0.4227 - val_loss: 1.2450 - val_accuracy: 0.4510\n",
            "Epoch 6/100\n",
            "69/69 [==============================] - 0s 3ms/step - loss: 1.3992 - accuracy: 0.4265 - val_loss: 1.2100 - val_accuracy: 0.4517\n",
            "Epoch 7/100\n",
            "69/69 [==============================] - 0s 3ms/step - loss: 1.3465 - accuracy: 0.4329 - val_loss: 1.1965 - val_accuracy: 0.4531\n",
            "Epoch 8/100\n",
            "69/69 [==============================] - 0s 3ms/step - loss: 1.3115 - accuracy: 0.4419 - val_loss: 1.1839 - val_accuracy: 0.4531\n",
            "Epoch 9/100\n",
            "69/69 [==============================] - 0s 3ms/step - loss: 1.2748 - accuracy: 0.4513 - val_loss: 1.2718 - val_accuracy: 0.4374\n",
            "Epoch 10/100\n",
            "69/69 [==============================] - 0s 3ms/step - loss: 1.2390 - accuracy: 0.4691 - val_loss: 1.1556 - val_accuracy: 0.4837\n",
            "Epoch 11/100\n",
            "69/69 [==============================] - 0s 3ms/step - loss: 1.2343 - accuracy: 0.4708 - val_loss: 1.2022 - val_accuracy: 0.4633\n",
            "Epoch 12/100\n",
            "69/69 [==============================] - 0s 3ms/step - loss: 1.1994 - accuracy: 0.4860 - val_loss: 1.2007 - val_accuracy: 0.4599\n",
            "Epoch 13/100\n",
            "69/69 [==============================] - 0s 3ms/step - loss: 1.2065 - accuracy: 0.4775 - val_loss: 1.1359 - val_accuracy: 0.4952\n",
            "Epoch 14/100\n",
            "69/69 [==============================] - 0s 3ms/step - loss: 1.1980 - accuracy: 0.4732 - val_loss: 1.1400 - val_accuracy: 0.4878\n",
            "Epoch 15/100\n",
            "69/69 [==============================] - 0s 3ms/step - loss: 1.1767 - accuracy: 0.4848 - val_loss: 1.1284 - val_accuracy: 0.4952\n",
            "Epoch 16/100\n",
            "69/69 [==============================] - 0s 3ms/step - loss: 1.1779 - accuracy: 0.4947 - val_loss: 1.1477 - val_accuracy: 0.4803\n",
            "Epoch 17/100\n",
            "69/69 [==============================] - 0s 3ms/step - loss: 1.1685 - accuracy: 0.4854 - val_loss: 1.1265 - val_accuracy: 0.4912\n",
            "Epoch 18/100\n",
            "69/69 [==============================] - 0s 3ms/step - loss: 1.1524 - accuracy: 0.4991 - val_loss: 1.1167 - val_accuracy: 0.4837\n",
            "Epoch 19/100\n",
            "69/69 [==============================] - 0s 3ms/step - loss: 1.1549 - accuracy: 0.4950 - val_loss: 1.1288 - val_accuracy: 0.4939\n",
            "Epoch 20/100\n",
            "69/69 [==============================] - 0s 3ms/step - loss: 1.1625 - accuracy: 0.4921 - val_loss: 1.1832 - val_accuracy: 0.4673\n",
            "Epoch 21/100\n",
            "69/69 [==============================] - 0s 3ms/step - loss: 1.1551 - accuracy: 0.4924 - val_loss: 1.1296 - val_accuracy: 0.4823\n",
            "Epoch 22/100\n",
            "69/69 [==============================] - 0s 3ms/step - loss: 1.1442 - accuracy: 0.4965 - val_loss: 1.1127 - val_accuracy: 0.5061\n",
            "Epoch 23/100\n",
            "69/69 [==============================] - 0s 3ms/step - loss: 1.1539 - accuracy: 0.5023 - val_loss: 1.1076 - val_accuracy: 0.5075\n",
            "Epoch 24/100\n",
            "69/69 [==============================] - 0s 3ms/step - loss: 1.1459 - accuracy: 0.4982 - val_loss: 1.1061 - val_accuracy: 0.5068\n",
            "Epoch 25/100\n",
            "69/69 [==============================] - 0s 3ms/step - loss: 1.1365 - accuracy: 0.5053 - val_loss: 1.1158 - val_accuracy: 0.5000\n",
            "Epoch 26/100\n",
            "69/69 [==============================] - 0s 3ms/step - loss: 1.1339 - accuracy: 0.5067 - val_loss: 1.1336 - val_accuracy: 0.4932\n",
            "Epoch 27/100\n",
            "69/69 [==============================] - 0s 3ms/step - loss: 1.1371 - accuracy: 0.4956 - val_loss: 1.1170 - val_accuracy: 0.5109\n",
            "Epoch 28/100\n",
            "69/69 [==============================] - 0s 3ms/step - loss: 1.1160 - accuracy: 0.5193 - val_loss: 1.1210 - val_accuracy: 0.5000\n",
            "Epoch 29/100\n",
            "69/69 [==============================] - 0s 3ms/step - loss: 1.1342 - accuracy: 0.5085 - val_loss: 1.1039 - val_accuracy: 0.5109\n",
            "Epoch 30/100\n",
            "69/69 [==============================] - 0s 3ms/step - loss: 1.1281 - accuracy: 0.5093 - val_loss: 1.2425 - val_accuracy: 0.4320\n",
            "Epoch 31/100\n",
            "69/69 [==============================] - 0s 3ms/step - loss: 1.1230 - accuracy: 0.5096 - val_loss: 1.1244 - val_accuracy: 0.5014\n",
            "Epoch 32/100\n",
            "69/69 [==============================] - 0s 4ms/step - loss: 1.1181 - accuracy: 0.5143 - val_loss: 1.1002 - val_accuracy: 0.5068\n",
            "Epoch 33/100\n",
            "69/69 [==============================] - 0s 3ms/step - loss: 1.1217 - accuracy: 0.5169 - val_loss: 1.1182 - val_accuracy: 0.5048\n",
            "Epoch 34/100\n",
            "69/69 [==============================] - 0s 3ms/step - loss: 1.1231 - accuracy: 0.5111 - val_loss: 1.1134 - val_accuracy: 0.4980\n",
            "Epoch 35/100\n",
            "69/69 [==============================] - 0s 3ms/step - loss: 1.1133 - accuracy: 0.5207 - val_loss: 1.0955 - val_accuracy: 0.5177\n",
            "Epoch 36/100\n",
            "69/69 [==============================] - 0s 3ms/step - loss: 1.1141 - accuracy: 0.5210 - val_loss: 1.1066 - val_accuracy: 0.5095\n",
            "Epoch 37/100\n",
            "69/69 [==============================] - 0s 3ms/step - loss: 1.1090 - accuracy: 0.5181 - val_loss: 1.1580 - val_accuracy: 0.4660\n",
            "Epoch 38/100\n",
            "69/69 [==============================] - 0s 3ms/step - loss: 1.1137 - accuracy: 0.5198 - val_loss: 1.3469 - val_accuracy: 0.3918\n",
            "Epoch 39/100\n",
            "69/69 [==============================] - 0s 3ms/step - loss: 1.1150 - accuracy: 0.5163 - val_loss: 1.0978 - val_accuracy: 0.5109\n",
            "Epoch 40/100\n",
            "69/69 [==============================] - 0s 3ms/step - loss: 1.1096 - accuracy: 0.5219 - val_loss: 1.3047 - val_accuracy: 0.4510\n",
            "Epoch 41/100\n",
            "69/69 [==============================] - 0s 3ms/step - loss: 1.1156 - accuracy: 0.5166 - val_loss: 1.0977 - val_accuracy: 0.5095\n",
            "Epoch 42/100\n",
            "69/69 [==============================] - 0s 3ms/step - loss: 1.1046 - accuracy: 0.5330 - val_loss: 1.0920 - val_accuracy: 0.5095\n",
            "Epoch 43/100\n",
            "69/69 [==============================] - 0s 3ms/step - loss: 1.1100 - accuracy: 0.5178 - val_loss: 1.0971 - val_accuracy: 0.5048\n",
            "Epoch 44/100\n",
            "69/69 [==============================] - 0s 3ms/step - loss: 1.1041 - accuracy: 0.5268 - val_loss: 1.0872 - val_accuracy: 0.5170\n",
            "Epoch 45/100\n",
            "69/69 [==============================] - 0s 3ms/step - loss: 1.0943 - accuracy: 0.5061 - val_loss: 1.0910 - val_accuracy: 0.5136\n",
            "Epoch 46/100\n",
            "69/69 [==============================] - 0s 3ms/step - loss: 1.1056 - accuracy: 0.5172 - val_loss: 1.0862 - val_accuracy: 0.5204\n",
            "Epoch 47/100\n",
            "69/69 [==============================] - 0s 3ms/step - loss: 1.1060 - accuracy: 0.5260 - val_loss: 1.1660 - val_accuracy: 0.4748\n",
            "Epoch 48/100\n",
            "69/69 [==============================] - 0s 3ms/step - loss: 1.1033 - accuracy: 0.5175 - val_loss: 1.0960 - val_accuracy: 0.5116\n",
            "Epoch 49/100\n",
            "69/69 [==============================] - 0s 3ms/step - loss: 1.1055 - accuracy: 0.5184 - val_loss: 1.0867 - val_accuracy: 0.5163\n",
            "Epoch 50/100\n",
            "69/69 [==============================] - 0s 3ms/step - loss: 1.1112 - accuracy: 0.5204 - val_loss: 1.0995 - val_accuracy: 0.5136\n",
            "Epoch 51/100\n",
            "69/69 [==============================] - 0s 3ms/step - loss: 1.1069 - accuracy: 0.5131 - val_loss: 1.1469 - val_accuracy: 0.4816\n",
            "Epoch 52/100\n",
            "69/69 [==============================] - 0s 3ms/step - loss: 1.0861 - accuracy: 0.5379 - val_loss: 1.1341 - val_accuracy: 0.4837\n",
            "Epoch 53/100\n",
            "69/69 [==============================] - 0s 3ms/step - loss: 1.0922 - accuracy: 0.5236 - val_loss: 1.1694 - val_accuracy: 0.4782\n",
            "Epoch 54/100\n",
            "69/69 [==============================] - 0s 3ms/step - loss: 1.0995 - accuracy: 0.5271 - val_loss: 1.0919 - val_accuracy: 0.5136\n",
            "Epoch 55/100\n",
            "69/69 [==============================] - 0s 3ms/step - loss: 1.0969 - accuracy: 0.5300 - val_loss: 1.1026 - val_accuracy: 0.5272\n",
            "Epoch 56/100\n",
            "69/69 [==============================] - 0s 3ms/step - loss: 1.0961 - accuracy: 0.5283 - val_loss: 1.0920 - val_accuracy: 0.5109\n",
            "Epoch 57/100\n",
            "69/69 [==============================] - 0s 3ms/step - loss: 1.0980 - accuracy: 0.5190 - val_loss: 1.1069 - val_accuracy: 0.5129\n",
            "Epoch 58/100\n",
            "69/69 [==============================] - 0s 3ms/step - loss: 1.0995 - accuracy: 0.5300 - val_loss: 1.1334 - val_accuracy: 0.4966\n",
            "Epoch 59/100\n",
            "69/69 [==============================] - 0s 3ms/step - loss: 1.0939 - accuracy: 0.5271 - val_loss: 1.1197 - val_accuracy: 0.5054\n",
            "Epoch 60/100\n",
            "69/69 [==============================] - 0s 3ms/step - loss: 1.0915 - accuracy: 0.5271 - val_loss: 1.0885 - val_accuracy: 0.5184\n",
            "Epoch 61/100\n",
            "69/69 [==============================] - 0s 3ms/step - loss: 1.0921 - accuracy: 0.5335 - val_loss: 1.0869 - val_accuracy: 0.5150\n",
            "Epoch 62/100\n",
            "69/69 [==============================] - 0s 3ms/step - loss: 1.0805 - accuracy: 0.5327 - val_loss: 1.0870 - val_accuracy: 0.5245\n",
            "Epoch 63/100\n",
            "69/69 [==============================] - 0s 3ms/step - loss: 1.1052 - accuracy: 0.5257 - val_loss: 1.1208 - val_accuracy: 0.4959\n",
            "Epoch 64/100\n",
            "69/69 [==============================] - 0s 3ms/step - loss: 1.0885 - accuracy: 0.5338 - val_loss: 1.0795 - val_accuracy: 0.5156\n",
            "Epoch 65/100\n",
            "69/69 [==============================] - 0s 3ms/step - loss: 1.0861 - accuracy: 0.5236 - val_loss: 1.1427 - val_accuracy: 0.4871\n",
            "Epoch 66/100\n",
            "69/69 [==============================] - 0s 3ms/step - loss: 1.0887 - accuracy: 0.5228 - val_loss: 1.2198 - val_accuracy: 0.4884\n",
            "Epoch 67/100\n",
            "69/69 [==============================] - 0s 3ms/step - loss: 1.0968 - accuracy: 0.5248 - val_loss: 1.1431 - val_accuracy: 0.4857\n",
            "Epoch 68/100\n",
            "69/69 [==============================] - 0s 3ms/step - loss: 1.0850 - accuracy: 0.5277 - val_loss: 1.0940 - val_accuracy: 0.5218\n",
            "Epoch 69/100\n",
            "69/69 [==============================] - 0s 3ms/step - loss: 1.0816 - accuracy: 0.5277 - val_loss: 1.0808 - val_accuracy: 0.5299\n",
            "Epoch 70/100\n",
            "69/69 [==============================] - 0s 3ms/step - loss: 1.0918 - accuracy: 0.5274 - val_loss: 1.1322 - val_accuracy: 0.4905\n",
            "Epoch 71/100\n",
            "69/69 [==============================] - 0s 3ms/step - loss: 1.0877 - accuracy: 0.5216 - val_loss: 1.1623 - val_accuracy: 0.4837\n",
            "Epoch 72/100\n",
            "69/69 [==============================] - 0s 3ms/step - loss: 1.0856 - accuracy: 0.5353 - val_loss: 1.2141 - val_accuracy: 0.4707\n",
            "Epoch 73/100\n",
            "69/69 [==============================] - 0s 3ms/step - loss: 1.0912 - accuracy: 0.5385 - val_loss: 1.5158 - val_accuracy: 0.4204\n",
            "Epoch 74/100\n",
            "69/69 [==============================] - 0s 3ms/step - loss: 1.0796 - accuracy: 0.5394 - val_loss: 1.0906 - val_accuracy: 0.5190\n",
            "Epoch 75/100\n",
            "69/69 [==============================] - 0s 3ms/step - loss: 1.0861 - accuracy: 0.5292 - val_loss: 1.0897 - val_accuracy: 0.5095\n",
            "Epoch 76/100\n",
            "69/69 [==============================] - 0s 3ms/step - loss: 1.0872 - accuracy: 0.5245 - val_loss: 1.0795 - val_accuracy: 0.5286\n",
            "Epoch 77/100\n",
            "69/69 [==============================] - 0s 3ms/step - loss: 1.0884 - accuracy: 0.5283 - val_loss: 1.1247 - val_accuracy: 0.5109\n",
            "Epoch 78/100\n",
            "69/69 [==============================] - 0s 3ms/step - loss: 1.0823 - accuracy: 0.5298 - val_loss: 1.0882 - val_accuracy: 0.5150\n",
            "Epoch 79/100\n",
            "69/69 [==============================] - 0s 3ms/step - loss: 1.0863 - accuracy: 0.5312 - val_loss: 1.2288 - val_accuracy: 0.4762\n",
            "Epoch 80/100\n",
            "69/69 [==============================] - 0s 3ms/step - loss: 1.0836 - accuracy: 0.5347 - val_loss: 1.1793 - val_accuracy: 0.4803\n",
            "Epoch 81/100\n",
            "69/69 [==============================] - 0s 3ms/step - loss: 1.0741 - accuracy: 0.5414 - val_loss: 1.4433 - val_accuracy: 0.4218\n",
            "Epoch 82/100\n",
            "69/69 [==============================] - 0s 3ms/step - loss: 1.0801 - accuracy: 0.5335 - val_loss: 1.0816 - val_accuracy: 0.5177\n",
            "Epoch 83/100\n",
            "69/69 [==============================] - 0s 3ms/step - loss: 1.0731 - accuracy: 0.5318 - val_loss: 1.0998 - val_accuracy: 0.5156\n",
            "Epoch 84/100\n",
            "69/69 [==============================] - 0s 3ms/step - loss: 1.0692 - accuracy: 0.5365 - val_loss: 1.1163 - val_accuracy: 0.5007\n",
            "Epoch 85/100\n",
            "69/69 [==============================] - 0s 3ms/step - loss: 1.0864 - accuracy: 0.5204 - val_loss: 1.0885 - val_accuracy: 0.5095\n",
            "Epoch 86/100\n",
            "69/69 [==============================] - 0s 3ms/step - loss: 1.0755 - accuracy: 0.5370 - val_loss: 1.0786 - val_accuracy: 0.5259\n",
            "Epoch 87/100\n",
            "69/69 [==============================] - 0s 3ms/step - loss: 1.0741 - accuracy: 0.5344 - val_loss: 1.0966 - val_accuracy: 0.5184\n",
            "Epoch 88/100\n",
            "69/69 [==============================] - 0s 3ms/step - loss: 1.0818 - accuracy: 0.5289 - val_loss: 1.2540 - val_accuracy: 0.4721\n",
            "Epoch 89/100\n",
            "69/69 [==============================] - 0s 3ms/step - loss: 1.0761 - accuracy: 0.5426 - val_loss: 1.0803 - val_accuracy: 0.5190\n",
            "Epoch 90/100\n",
            "69/69 [==============================] - 0s 3ms/step - loss: 1.0793 - accuracy: 0.5370 - val_loss: 1.2611 - val_accuracy: 0.4748\n",
            "Epoch 91/100\n",
            "69/69 [==============================] - 0s 3ms/step - loss: 1.0763 - accuracy: 0.5321 - val_loss: 1.1525 - val_accuracy: 0.4878\n",
            "Epoch 92/100\n",
            "69/69 [==============================] - 0s 3ms/step - loss: 1.0811 - accuracy: 0.5344 - val_loss: 1.1416 - val_accuracy: 0.4782\n",
            "Epoch 93/100\n",
            "69/69 [==============================] - 0s 3ms/step - loss: 1.0897 - accuracy: 0.5233 - val_loss: 1.0807 - val_accuracy: 0.5136\n",
            "Epoch 94/100\n",
            "69/69 [==============================] - 0s 3ms/step - loss: 1.0838 - accuracy: 0.5251 - val_loss: 1.0869 - val_accuracy: 0.5252\n",
            "Epoch 95/100\n",
            "69/69 [==============================] - 0s 3ms/step - loss: 1.0732 - accuracy: 0.5309 - val_loss: 1.0900 - val_accuracy: 0.5204\n",
            "Epoch 96/100\n",
            "69/69 [==============================] - 0s 3ms/step - loss: 1.0837 - accuracy: 0.5265 - val_loss: 1.1075 - val_accuracy: 0.5082\n",
            "Epoch 97/100\n",
            "69/69 [==============================] - 0s 3ms/step - loss: 1.0775 - accuracy: 0.5312 - val_loss: 1.0748 - val_accuracy: 0.5197\n",
            "Epoch 98/100\n",
            "69/69 [==============================] - 0s 3ms/step - loss: 1.0713 - accuracy: 0.5438 - val_loss: 1.0890 - val_accuracy: 0.5177\n",
            "Epoch 99/100\n",
            "69/69 [==============================] - 0s 3ms/step - loss: 1.0889 - accuracy: 0.5271 - val_loss: 1.1777 - val_accuracy: 0.4789\n",
            "Epoch 100/100\n",
            "69/69 [==============================] - 0s 3ms/step - loss: 1.0727 - accuracy: 0.5283 - val_loss: 1.0865 - val_accuracy: 0.5150\n"
          ],
          "name": "stdout"
        },
        {
          "output_type": "display_data",
          "data": {
            "image/png": "[encoded data removed]",
            "text/plain": [
              "<Figure size 432x288 with 1 Axes>"
            ]
          },
          "metadata": {
            "tags": [],
            "needs_background": "light"
          }
        }
      ]
    },
    {
      "cell_type": "code",
      "metadata": {
        "id": "sbk7TjwaZLZj",
        "colab_type": "code",
        "outputId": "eed9e2cd-6740-49a7-cacc-3724d05bcd83",
        "colab": {
          "base_uri": "https://localhost:8080/",
          "height": 52
        }
      },
      "source": [
        "#white wine에 대한 테스트\n",
        "results = model.evaluate(white_x_test, new_white_y_test)\n",
        "print('Test accuracy: ', results[1])"
      ],
      "execution_count": 164,
      "outputs": [
        {
          "output_type": "stream",
          "text": [
            "46/46 [==============================] - 0s 1ms/step - loss: 1.0865 - accuracy: 0.5150\n",
            "Test accuracy:  0.5149660110473633\n"
          ],
          "name": "stdout"
        }
      ]
    },
    {
      "cell_type": "code",
      "metadata": {
        "id": "OjB5c3qNP60F",
        "colab_type": "code",
        "colab": {}
      },
      "source": [
        "##########################################################\n",
        "model = models.Sequential()\n",
        "model.add(layers.Dense(units=32,input_dim=11,activation='relu'))\n",
        "model.add(layers.BatchNormalization(momentum=0.99, epsilon=0.001))\n",
        "\n",
        "model.add(layers.Dense(units=50,activation='relu'))\n",
        "model.add(layers.BatchNormalization(momentum=0.99, epsilon=0.001))\n",
        "model.add(layers.Dropout(0.5))\n",
        "\n",
        "model.add(layers.Dense(units=100,activation='relu'))\n",
        "model.add(layers.BatchNormalization(momentum=0.99, epsilon=0.001))\n",
        "model.add(layers.Dropout(0.5))\n",
        "\n",
        "model.add(layers.Dense(units=6, activation='softmax'))\n",
        "\n",
        "############################################################"
      ],
      "execution_count": 0,
      "outputs": []
    },
    {
      "cell_type": "code",
      "metadata": {
        "id": "bhsAlU_2P7dM",
        "colab_type": "code",
        "colab": {
          "base_uri": "https://localhost:8080/",
          "height": 474
        },
        "outputId": "6cc86da8-e909-4db9-c0c9-4bfeecc61ff6"
      },
      "source": [
        "tf.keras.optimizers.Adam(\n",
        "    learning_rate=0.0005, beta_1=0.9, beta_2=0.999, epsilon=1e-07, amsgrad=True,\n",
        "    name='Adam'\n",
        ")\n",
        "model.compile(optimizer='adam',\n",
        "              loss='sparse_categorical_crossentropy',\n",
        "              metrics=['accuracy'])\n",
        "model.summary()"
      ],
      "execution_count": 166,
      "outputs": [
        {
          "output_type": "stream",
          "text": [
            "Model: \"sequential_22\"\n",
            "_________________________________________________________________\n",
            "Layer (type)                 Output Shape              Param #   \n",
            "=================================================================\n",
            "dense_66 (Dense)             (None, 32)                384       \n",
            "_________________________________________________________________\n",
            "batch_normalization_23 (Batc (None, 32)                128       \n",
            "_________________________________________________________________\n",
            "dense_67 (Dense)             (None, 50)                1650      \n",
            "_________________________________________________________________\n",
            "batch_normalization_24 (Batc (None, 50)                200       \n",
            "_________________________________________________________________\n",
            "dropout_17 (Dropout)         (None, 50)                0         \n",
            "_________________________________________________________________\n",
            "dense_68 (Dense)             (None, 100)               5100      \n",
            "_________________________________________________________________\n",
            "batch_normalization_25 (Batc (None, 100)               400       \n",
            "_________________________________________________________________\n",
            "dropout_18 (Dropout)         (None, 100)               0         \n",
            "_________________________________________________________________\n",
            "dense_69 (Dense)             (None, 6)                 606       \n",
            "=================================================================\n",
            "Total params: 8,468\n",
            "Trainable params: 8,104\n",
            "Non-trainable params: 364\n",
            "_________________________________________________________________\n"
          ],
          "name": "stdout"
        }
      ]
    },
    {
      "cell_type": "code",
      "metadata": {
        "id": "RvIuazgCnWYC",
        "colab_type": "code",
        "outputId": "062333e6-438f-4833-ddc0-1010095e5057",
        "colab": {
          "base_uri": "https://localhost:8080/",
          "height": 1000
        }
      },
      "source": [
        "#red_wine에 대한 train\n",
        "new_red_y_train = red_y_train-3\n",
        "new_red_y_test = red_y_test-3\n",
        "history = model.fit(red_x_train, new_red_y_train, batch_size = 10, epochs = 100,validation_data=(red_x_test, new_red_y_test))\n",
        "plt.plot(history.history['loss'])\n",
        "plt.legend(['loss'], loc = 'upper left')\n",
        "plt.show()"
      ],
      "execution_count": 167,
      "outputs": [
        {
          "output_type": "stream",
          "text": [
            "Epoch 1/100\n",
            "112/112 [==============================] - 0s 4ms/step - loss: 2.5169 - accuracy: 0.2520 - val_loss: 1.4664 - val_accuracy: 0.4437\n",
            "Epoch 2/100\n",
            "112/112 [==============================] - 0s 3ms/step - loss: 1.9085 - accuracy: 0.3619 - val_loss: 1.2530 - val_accuracy: 0.5083\n",
            "Epoch 3/100\n",
            "112/112 [==============================] - 0s 3ms/step - loss: 1.7422 - accuracy: 0.4066 - val_loss: 1.1678 - val_accuracy: 0.5604\n",
            "Epoch 4/100\n",
            "112/112 [==============================] - 0s 3ms/step - loss: 1.5312 - accuracy: 0.4307 - val_loss: 1.1312 - val_accuracy: 0.5437\n",
            "Epoch 5/100\n",
            "112/112 [==============================] - 0s 3ms/step - loss: 1.4492 - accuracy: 0.4334 - val_loss: 1.1130 - val_accuracy: 0.5500\n",
            "Epoch 6/100\n",
            "112/112 [==============================] - 0s 3ms/step - loss: 1.4332 - accuracy: 0.3995 - val_loss: 1.1206 - val_accuracy: 0.5125\n",
            "Epoch 7/100\n",
            "112/112 [==============================] - 0s 3ms/step - loss: 1.3530 - accuracy: 0.4441 - val_loss: 1.0890 - val_accuracy: 0.5562\n",
            "Epoch 8/100\n",
            "112/112 [==============================] - 0s 3ms/step - loss: 1.2689 - accuracy: 0.4441 - val_loss: 1.0887 - val_accuracy: 0.5375\n",
            "Epoch 9/100\n",
            "112/112 [==============================] - 0s 3ms/step - loss: 1.2530 - accuracy: 0.4540 - val_loss: 1.0813 - val_accuracy: 0.5604\n",
            "Epoch 10/100\n",
            "112/112 [==============================] - 0s 3ms/step - loss: 1.2563 - accuracy: 0.4406 - val_loss: 1.0650 - val_accuracy: 0.5708\n",
            "Epoch 11/100\n",
            "112/112 [==============================] - 0s 3ms/step - loss: 1.2426 - accuracy: 0.4468 - val_loss: 1.0595 - val_accuracy: 0.5750\n",
            "Epoch 12/100\n",
            "112/112 [==============================] - 0s 3ms/step - loss: 1.1796 - accuracy: 0.4781 - val_loss: 1.0523 - val_accuracy: 0.5833\n",
            "Epoch 13/100\n",
            "112/112 [==============================] - 0s 2ms/step - loss: 1.1675 - accuracy: 0.4861 - val_loss: 1.0617 - val_accuracy: 0.5708\n",
            "Epoch 14/100\n",
            "112/112 [==============================] - 0s 3ms/step - loss: 1.1591 - accuracy: 0.4808 - val_loss: 1.0450 - val_accuracy: 0.5729\n",
            "Epoch 15/100\n",
            "112/112 [==============================] - 0s 3ms/step - loss: 1.1686 - accuracy: 0.4799 - val_loss: 1.0397 - val_accuracy: 0.5667\n",
            "Epoch 16/100\n",
            "112/112 [==============================] - 0s 3ms/step - loss: 1.1755 - accuracy: 0.4674 - val_loss: 1.0284 - val_accuracy: 0.5833\n",
            "Epoch 17/100\n",
            "112/112 [==============================] - 0s 3ms/step - loss: 1.1390 - accuracy: 0.4933 - val_loss: 1.0268 - val_accuracy: 0.5896\n",
            "Epoch 18/100\n",
            "112/112 [==============================] - 0s 3ms/step - loss: 1.1312 - accuracy: 0.5085 - val_loss: 1.0203 - val_accuracy: 0.5979\n",
            "Epoch 19/100\n",
            "112/112 [==============================] - 0s 3ms/step - loss: 1.1056 - accuracy: 0.5380 - val_loss: 1.0087 - val_accuracy: 0.5833\n",
            "Epoch 20/100\n",
            "112/112 [==============================] - 0s 3ms/step - loss: 1.1049 - accuracy: 0.5362 - val_loss: 0.9933 - val_accuracy: 0.5958\n",
            "Epoch 21/100\n",
            "112/112 [==============================] - 0s 3ms/step - loss: 1.0906 - accuracy: 0.5264 - val_loss: 1.0066 - val_accuracy: 0.5688\n",
            "Epoch 22/100\n",
            "112/112 [==============================] - 0s 3ms/step - loss: 1.0911 - accuracy: 0.5147 - val_loss: 0.9958 - val_accuracy: 0.5771\n",
            "Epoch 23/100\n",
            "112/112 [==============================] - 0s 3ms/step - loss: 1.0714 - accuracy: 0.5407 - val_loss: 0.9727 - val_accuracy: 0.6000\n",
            "Epoch 24/100\n",
            "112/112 [==============================] - 0s 3ms/step - loss: 1.0857 - accuracy: 0.5487 - val_loss: 0.9785 - val_accuracy: 0.6083\n",
            "Epoch 25/100\n",
            "112/112 [==============================] - 0s 2ms/step - loss: 1.0528 - accuracy: 0.5478 - val_loss: 0.9591 - val_accuracy: 0.5958\n",
            "Epoch 26/100\n",
            "112/112 [==============================] - 0s 3ms/step - loss: 1.0812 - accuracy: 0.5371 - val_loss: 0.9770 - val_accuracy: 0.6083\n",
            "Epoch 27/100\n",
            "112/112 [==============================] - 0s 3ms/step - loss: 1.0441 - accuracy: 0.5469 - val_loss: 0.9792 - val_accuracy: 0.5958\n",
            "Epoch 28/100\n",
            "112/112 [==============================] - 0s 3ms/step - loss: 1.0615 - accuracy: 0.5514 - val_loss: 0.9900 - val_accuracy: 0.5479\n",
            "Epoch 29/100\n",
            "112/112 [==============================] - 0s 3ms/step - loss: 1.0344 - accuracy: 0.5737 - val_loss: 0.9508 - val_accuracy: 0.5729\n",
            "Epoch 30/100\n",
            "112/112 [==============================] - 0s 3ms/step - loss: 1.0390 - accuracy: 0.5416 - val_loss: 0.9531 - val_accuracy: 0.6104\n",
            "Epoch 31/100\n",
            "112/112 [==============================] - 0s 3ms/step - loss: 1.0558 - accuracy: 0.5362 - val_loss: 0.9448 - val_accuracy: 0.6167\n",
            "Epoch 32/100\n",
            "112/112 [==============================] - 0s 3ms/step - loss: 1.0525 - accuracy: 0.5469 - val_loss: 0.9407 - val_accuracy: 0.6000\n",
            "Epoch 33/100\n",
            "112/112 [==============================] - 0s 3ms/step - loss: 1.0662 - accuracy: 0.5550 - val_loss: 0.9833 - val_accuracy: 0.5771\n",
            "Epoch 34/100\n",
            "112/112 [==============================] - 0s 3ms/step - loss: 1.0659 - accuracy: 0.5442 - val_loss: 0.9567 - val_accuracy: 0.6083\n",
            "Epoch 35/100\n",
            "112/112 [==============================] - 0s 3ms/step - loss: 1.0487 - accuracy: 0.5567 - val_loss: 0.9448 - val_accuracy: 0.5938\n",
            "Epoch 36/100\n",
            "112/112 [==============================] - 0s 3ms/step - loss: 1.0506 - accuracy: 0.5460 - val_loss: 0.9414 - val_accuracy: 0.6146\n",
            "Epoch 37/100\n",
            "112/112 [==============================] - 0s 3ms/step - loss: 1.0438 - accuracy: 0.5612 - val_loss: 0.9456 - val_accuracy: 0.6125\n",
            "Epoch 38/100\n",
            "112/112 [==============================] - 0s 3ms/step - loss: 1.0244 - accuracy: 0.5460 - val_loss: 0.9450 - val_accuracy: 0.6000\n",
            "Epoch 39/100\n",
            "112/112 [==============================] - 0s 3ms/step - loss: 1.0380 - accuracy: 0.5353 - val_loss: 0.9552 - val_accuracy: 0.5771\n",
            "Epoch 40/100\n",
            "112/112 [==============================] - 0s 3ms/step - loss: 1.0271 - accuracy: 0.5505 - val_loss: 0.9434 - val_accuracy: 0.6104\n",
            "Epoch 41/100\n",
            "112/112 [==============================] - 0s 3ms/step - loss: 1.0154 - accuracy: 0.5621 - val_loss: 0.9416 - val_accuracy: 0.6125\n",
            "Epoch 42/100\n",
            "112/112 [==============================] - 0s 3ms/step - loss: 1.0321 - accuracy: 0.5523 - val_loss: 0.9720 - val_accuracy: 0.5854\n",
            "Epoch 43/100\n",
            "112/112 [==============================] - 0s 3ms/step - loss: 1.0329 - accuracy: 0.5657 - val_loss: 0.9603 - val_accuracy: 0.6000\n",
            "Epoch 44/100\n",
            "112/112 [==============================] - 0s 3ms/step - loss: 1.0141 - accuracy: 0.5559 - val_loss: 0.9347 - val_accuracy: 0.6208\n",
            "Epoch 45/100\n",
            "112/112 [==============================] - 0s 3ms/step - loss: 1.0427 - accuracy: 0.5344 - val_loss: 0.9616 - val_accuracy: 0.5792\n",
            "Epoch 46/100\n",
            "112/112 [==============================] - 0s 3ms/step - loss: 1.0392 - accuracy: 0.5514 - val_loss: 0.9564 - val_accuracy: 0.6083\n",
            "Epoch 47/100\n",
            "112/112 [==============================] - 0s 3ms/step - loss: 1.0339 - accuracy: 0.5469 - val_loss: 0.9572 - val_accuracy: 0.5938\n",
            "Epoch 48/100\n",
            "112/112 [==============================] - 0s 3ms/step - loss: 1.0329 - accuracy: 0.5594 - val_loss: 0.9470 - val_accuracy: 0.6042\n",
            "Epoch 49/100\n",
            "112/112 [==============================] - 0s 3ms/step - loss: 1.0155 - accuracy: 0.5675 - val_loss: 0.9431 - val_accuracy: 0.6167\n",
            "Epoch 50/100\n",
            "112/112 [==============================] - 0s 3ms/step - loss: 1.0188 - accuracy: 0.5585 - val_loss: 0.9407 - val_accuracy: 0.6250\n",
            "Epoch 51/100\n",
            "112/112 [==============================] - 0s 3ms/step - loss: 1.0225 - accuracy: 0.5487 - val_loss: 0.9532 - val_accuracy: 0.5938\n",
            "Epoch 52/100\n",
            "112/112 [==============================] - 0s 3ms/step - loss: 1.0190 - accuracy: 0.5594 - val_loss: 0.9402 - val_accuracy: 0.6250\n",
            "Epoch 53/100\n",
            "112/112 [==============================] - 0s 3ms/step - loss: 1.0395 - accuracy: 0.5317 - val_loss: 0.9453 - val_accuracy: 0.5917\n",
            "Epoch 54/100\n",
            "112/112 [==============================] - 0s 3ms/step - loss: 1.0430 - accuracy: 0.5416 - val_loss: 0.9285 - val_accuracy: 0.5979\n",
            "Epoch 55/100\n",
            "112/112 [==============================] - 0s 3ms/step - loss: 1.0130 - accuracy: 0.5576 - val_loss: 0.9368 - val_accuracy: 0.6062\n",
            "Epoch 56/100\n",
            "112/112 [==============================] - 0s 3ms/step - loss: 1.0224 - accuracy: 0.5532 - val_loss: 0.9391 - val_accuracy: 0.6208\n",
            "Epoch 57/100\n",
            "112/112 [==============================] - 0s 3ms/step - loss: 1.0225 - accuracy: 0.5416 - val_loss: 0.9425 - val_accuracy: 0.6208\n",
            "Epoch 58/100\n",
            "112/112 [==============================] - 0s 3ms/step - loss: 1.0081 - accuracy: 0.5496 - val_loss: 0.9507 - val_accuracy: 0.6208\n",
            "Epoch 59/100\n",
            "112/112 [==============================] - 0s 3ms/step - loss: 1.0179 - accuracy: 0.5576 - val_loss: 0.9532 - val_accuracy: 0.6167\n",
            "Epoch 60/100\n",
            "112/112 [==============================] - 0s 3ms/step - loss: 1.0077 - accuracy: 0.5675 - val_loss: 0.9571 - val_accuracy: 0.5979\n",
            "Epoch 61/100\n",
            "112/112 [==============================] - 0s 3ms/step - loss: 1.0248 - accuracy: 0.5442 - val_loss: 0.9584 - val_accuracy: 0.5813\n",
            "Epoch 62/100\n",
            "112/112 [==============================] - 0s 3ms/step - loss: 1.0155 - accuracy: 0.5719 - val_loss: 0.9525 - val_accuracy: 0.6083\n",
            "Epoch 63/100\n",
            "112/112 [==============================] - 0s 3ms/step - loss: 1.0128 - accuracy: 0.5764 - val_loss: 0.9361 - val_accuracy: 0.6146\n",
            "Epoch 64/100\n",
            "112/112 [==============================] - 0s 3ms/step - loss: 1.0224 - accuracy: 0.5496 - val_loss: 0.9389 - val_accuracy: 0.6125\n",
            "Epoch 65/100\n",
            "112/112 [==============================] - 0s 3ms/step - loss: 0.9933 - accuracy: 0.5773 - val_loss: 0.9590 - val_accuracy: 0.6062\n",
            "Epoch 66/100\n",
            "112/112 [==============================] - 0s 3ms/step - loss: 1.0299 - accuracy: 0.5469 - val_loss: 0.9454 - val_accuracy: 0.5979\n",
            "Epoch 67/100\n",
            "112/112 [==============================] - 0s 3ms/step - loss: 1.0117 - accuracy: 0.5639 - val_loss: 0.9291 - val_accuracy: 0.5979\n",
            "Epoch 68/100\n",
            "112/112 [==============================] - 0s 3ms/step - loss: 1.0190 - accuracy: 0.5648 - val_loss: 0.9387 - val_accuracy: 0.6062\n",
            "Epoch 69/100\n",
            "112/112 [==============================] - 0s 3ms/step - loss: 1.0089 - accuracy: 0.5630 - val_loss: 0.9256 - val_accuracy: 0.6146\n",
            "Epoch 70/100\n",
            "112/112 [==============================] - 0s 3ms/step - loss: 1.0151 - accuracy: 0.5433 - val_loss: 0.9390 - val_accuracy: 0.6167\n",
            "Epoch 71/100\n",
            "112/112 [==============================] - 0s 3ms/step - loss: 1.0328 - accuracy: 0.5532 - val_loss: 0.9362 - val_accuracy: 0.6292\n",
            "Epoch 72/100\n",
            "112/112 [==============================] - 0s 3ms/step - loss: 1.0248 - accuracy: 0.5648 - val_loss: 0.9321 - val_accuracy: 0.6313\n",
            "Epoch 73/100\n",
            "112/112 [==============================] - 0s 3ms/step - loss: 1.0011 - accuracy: 0.5567 - val_loss: 0.9258 - val_accuracy: 0.6125\n",
            "Epoch 74/100\n",
            "112/112 [==============================] - 0s 3ms/step - loss: 1.0045 - accuracy: 0.5639 - val_loss: 0.9365 - val_accuracy: 0.6187\n",
            "Epoch 75/100\n",
            "112/112 [==============================] - 0s 3ms/step - loss: 1.0075 - accuracy: 0.5612 - val_loss: 0.9354 - val_accuracy: 0.6125\n",
            "Epoch 76/100\n",
            "112/112 [==============================] - 0s 3ms/step - loss: 1.0228 - accuracy: 0.5460 - val_loss: 0.9637 - val_accuracy: 0.6125\n",
            "Epoch 77/100\n",
            "112/112 [==============================] - 0s 3ms/step - loss: 1.0137 - accuracy: 0.5567 - val_loss: 0.9566 - val_accuracy: 0.6083\n",
            "Epoch 78/100\n",
            "112/112 [==============================] - 0s 3ms/step - loss: 0.9978 - accuracy: 0.5737 - val_loss: 0.9359 - val_accuracy: 0.6208\n",
            "Epoch 79/100\n",
            "112/112 [==============================] - 0s 3ms/step - loss: 0.9961 - accuracy: 0.5451 - val_loss: 0.9666 - val_accuracy: 0.5979\n",
            "Epoch 80/100\n",
            "112/112 [==============================] - 0s 3ms/step - loss: 0.9964 - accuracy: 0.5630 - val_loss: 0.9475 - val_accuracy: 0.5938\n",
            "Epoch 81/100\n",
            "112/112 [==============================] - 0s 3ms/step - loss: 1.0096 - accuracy: 0.5639 - val_loss: 0.9425 - val_accuracy: 0.6187\n",
            "Epoch 82/100\n",
            "112/112 [==============================] - 0s 3ms/step - loss: 1.0075 - accuracy: 0.5505 - val_loss: 0.9397 - val_accuracy: 0.6104\n",
            "Epoch 83/100\n",
            "112/112 [==============================] - 0s 3ms/step - loss: 1.0020 - accuracy: 0.5621 - val_loss: 0.9294 - val_accuracy: 0.6229\n",
            "Epoch 84/100\n",
            "112/112 [==============================] - 0s 3ms/step - loss: 1.0019 - accuracy: 0.5407 - val_loss: 0.9718 - val_accuracy: 0.5958\n",
            "Epoch 85/100\n",
            "112/112 [==============================] - 0s 3ms/step - loss: 1.0048 - accuracy: 0.5550 - val_loss: 0.9339 - val_accuracy: 0.5938\n",
            "Epoch 86/100\n",
            "112/112 [==============================] - 0s 3ms/step - loss: 0.9979 - accuracy: 0.5585 - val_loss: 0.9314 - val_accuracy: 0.6042\n",
            "Epoch 87/100\n",
            "112/112 [==============================] - 0s 3ms/step - loss: 1.0093 - accuracy: 0.5755 - val_loss: 0.9258 - val_accuracy: 0.5979\n",
            "Epoch 88/100\n",
            "112/112 [==============================] - 0s 3ms/step - loss: 0.9965 - accuracy: 0.5693 - val_loss: 0.9438 - val_accuracy: 0.6271\n",
            "Epoch 89/100\n",
            "112/112 [==============================] - 0s 3ms/step - loss: 1.0025 - accuracy: 0.5541 - val_loss: 0.9368 - val_accuracy: 0.6271\n",
            "Epoch 90/100\n",
            "112/112 [==============================] - 0s 3ms/step - loss: 0.9972 - accuracy: 0.5800 - val_loss: 0.9514 - val_accuracy: 0.6167\n",
            "Epoch 91/100\n",
            "112/112 [==============================] - 0s 3ms/step - loss: 0.9990 - accuracy: 0.5585 - val_loss: 0.9190 - val_accuracy: 0.6271\n",
            "Epoch 92/100\n",
            "112/112 [==============================] - 0s 2ms/step - loss: 0.9982 - accuracy: 0.5487 - val_loss: 0.9394 - val_accuracy: 0.6250\n",
            "Epoch 93/100\n",
            "112/112 [==============================] - 0s 3ms/step - loss: 0.9994 - accuracy: 0.5505 - val_loss: 0.9311 - val_accuracy: 0.6146\n",
            "Epoch 94/100\n",
            "112/112 [==============================] - 0s 3ms/step - loss: 1.0263 - accuracy: 0.5424 - val_loss: 0.9535 - val_accuracy: 0.5958\n",
            "Epoch 95/100\n",
            "112/112 [==============================] - 0s 3ms/step - loss: 0.9974 - accuracy: 0.5719 - val_loss: 0.9458 - val_accuracy: 0.6021\n",
            "Epoch 96/100\n",
            "112/112 [==============================] - 0s 2ms/step - loss: 1.0124 - accuracy: 0.5675 - val_loss: 0.9261 - val_accuracy: 0.6167\n",
            "Epoch 97/100\n",
            "112/112 [==============================] - 0s 3ms/step - loss: 1.0129 - accuracy: 0.5603 - val_loss: 0.9276 - val_accuracy: 0.6146\n",
            "Epoch 98/100\n",
            "112/112 [==============================] - 0s 3ms/step - loss: 0.9935 - accuracy: 0.5702 - val_loss: 0.9404 - val_accuracy: 0.6333\n",
            "Epoch 99/100\n",
            "112/112 [==============================] - 0s 3ms/step - loss: 1.0069 - accuracy: 0.5505 - val_loss: 0.9287 - val_accuracy: 0.6333\n",
            "Epoch 100/100\n",
            "112/112 [==============================] - 0s 3ms/step - loss: 1.0091 - accuracy: 0.5362 - val_loss: 0.9279 - val_accuracy: 0.6354\n"
          ],
          "name": "stdout"
        },
        {
          "output_type": "display_data",
          "data": {
            "image/png": "[encoded data removed]",
            "text/plain": [
              "<Figure size 432x288 with 1 Axes>"
            ]
          },
          "metadata": {
            "tags": [],
            "needs_background": "light"
          }
        }
      ]
    },
    {
      "cell_type": "code",
      "metadata": {
        "id": "vcHKR8tknaWU",
        "colab_type": "code",
        "outputId": "c91955f1-182a-4c9a-cae6-5085bc61547d",
        "colab": {
          "base_uri": "https://localhost:8080/",
          "height": 52
        }
      },
      "source": [
        "#red wine에 대한 테스트\n",
        "results = model.evaluate(red_x_test, new_red_y_test)\n",
        "print('Test accuracy: ', results[1])"
      ],
      "execution_count": 168,
      "outputs": [
        {
          "output_type": "stream",
          "text": [
            "15/15 [==============================] - 0s 1ms/step - loss: 0.9279 - accuracy: 0.6354\n",
            "Test accuracy:  0.6354166865348816\n"
          ],
          "name": "stdout"
        }
      ]
    },
    {
      "cell_type": "markdown",
      "metadata": {
        "colab_type": "text",
        "id": "KJ_KUtH2obWf"
      },
      "source": [
        "### 3. 화이트 와인과 레드 와인을 하나의 모델만 사용하여 분류\n",
        "* 화이트 와인과 레드 와인 데이터를 합쳐 wine 데이터 셋 생성\n",
        "* 입력이 화이트 와인인지 레드 와인인지에 관계없이 와인 품질을 분류하는 모델 생성\n",
        "* 모델의 성능을 향상시킬 수 있는 방법을 찾아 적용할 것\n"
      ]
    },
    {
      "cell_type": "code",
      "metadata": {
        "colab_type": "code",
        "id": "VWzy7FV8obWg",
        "colab": {}
      },
      "source": [
        "total_wine = pd.concat([white_wine,red_wine])"
      ],
      "execution_count": 0,
      "outputs": []
    },
    {
      "cell_type": "code",
      "metadata": {
        "id": "Oi-MEhaT1K_Z",
        "colab_type": "code",
        "outputId": "751912b9-b7b8-4bb9-d903-839e4779f316",
        "colab": {
          "base_uri": "https://localhost:8080/",
          "height": 34
        }
      },
      "source": [
        "total_wine.shape"
      ],
      "execution_count": 170,
      "outputs": [
        {
          "output_type": "execute_result",
          "data": {
            "text/plain": [
              "(6497, 12)"
            ]
          },
          "metadata": {
            "tags": []
          },
          "execution_count": 170
        }
      ]
    },
    {
      "cell_type": "code",
      "metadata": {
        "id": "HWXvZZoY7D4z",
        "colab_type": "code",
        "colab": {}
      },
      "source": [
        "total_x_train,total_y_train,total_x_test,total_y_test = generate_data(total_wine, 0.7)"
      ],
      "execution_count": 0,
      "outputs": []
    },
    {
      "cell_type": "code",
      "metadata": {
        "id": "1P8Vqlz11dVo",
        "colab_type": "code",
        "colab": {}
      },
      "source": [
        "##########################################################\n",
        "model = models.Sequential()\n",
        "model.add(layers.Dense(units=32,input_dim=11,activation='relu'))\n",
        "model.add(layers.BatchNormalization(momentum=0.99, epsilon=0.001))\n",
        "\n",
        "model.add(layers.Dense(units=50,activation='relu'))\n",
        "model.add(layers.BatchNormalization(momentum=0.99, epsilon=0.001))\n",
        "model.add(layers.Dropout(0.5))\n",
        "\n",
        "model.add(layers.Dense(units=100,activation='relu'))\n",
        "model.add(layers.BatchNormalization(momentum=0.99, epsilon=0.001))\n",
        "model.add(layers.Dropout(0.5))\n",
        "\n",
        "model.add(layers.Dense(units=7, activation='softmax'))\n",
        "\n",
        "############################################################"
      ],
      "execution_count": 0,
      "outputs": []
    },
    {
      "cell_type": "code",
      "metadata": {
        "id": "H9qfoSC01dwo",
        "colab_type": "code",
        "outputId": "53cae3bd-3d51-4e83-ad9a-80d527e55cb9",
        "colab": {
          "base_uri": "https://localhost:8080/",
          "height": 474
        }
      },
      "source": [
        "tf.keras.optimizers.Adam(\n",
        "    learning_rate=0.0005, beta_1=0.9, beta_2=0.999, epsilon=1e-07, amsgrad=True,\n",
        "    name='Adam'\n",
        ")\n",
        "model.compile(optimizer='adam',\n",
        "              loss='sparse_categorical_crossentropy',\n",
        "              metrics=['accuracy'])\n",
        "model.summary()"
      ],
      "execution_count": 173,
      "outputs": [
        {
          "output_type": "stream",
          "text": [
            "Model: \"sequential_23\"\n",
            "_________________________________________________________________\n",
            "Layer (type)                 Output Shape              Param #   \n",
            "=================================================================\n",
            "dense_70 (Dense)             (None, 32)                384       \n",
            "_________________________________________________________________\n",
            "batch_normalization_26 (Batc (None, 32)                128       \n",
            "_________________________________________________________________\n",
            "dense_71 (Dense)             (None, 50)                1650      \n",
            "_________________________________________________________________\n",
            "batch_normalization_27 (Batc (None, 50)                200       \n",
            "_________________________________________________________________\n",
            "dropout_19 (Dropout)         (None, 50)                0         \n",
            "_________________________________________________________________\n",
            "dense_72 (Dense)             (None, 100)               5100      \n",
            "_________________________________________________________________\n",
            "batch_normalization_28 (Batc (None, 100)               400       \n",
            "_________________________________________________________________\n",
            "dropout_20 (Dropout)         (None, 100)               0         \n",
            "_________________________________________________________________\n",
            "dense_73 (Dense)             (None, 7)                 707       \n",
            "=================================================================\n",
            "Total params: 8,569\n",
            "Trainable params: 8,205\n",
            "Non-trainable params: 364\n",
            "_________________________________________________________________\n"
          ],
          "name": "stdout"
        }
      ]
    },
    {
      "cell_type": "code",
      "metadata": {
        "id": "hat_z0OJ1Lsh",
        "colab_type": "code",
        "outputId": "e07df42a-9ae2-42b6-b013-f30354806018",
        "colab": {
          "base_uri": "https://localhost:8080/",
          "height": 1000
        }
      },
      "source": [
        "#total_wine에 대한 train\n",
        "new_total_y_train = total_y_train-3\n",
        "new_total_y_test = total_y_test-3\n",
        "history = model.fit(total_x_train, new_total_y_train, batch_size = 10, epochs = 100)\n",
        "plt.plot(history.history['loss'])\n",
        "plt.legend(['loss'], loc = 'upper left')\n",
        "plt.show()\n"
      ],
      "execution_count": 174,
      "outputs": [
        {
          "output_type": "stream",
          "text": [
            "Epoch 1/100\n",
            "455/455 [==============================] - 1s 2ms/step - loss: 2.1313 - accuracy: 0.3020\n",
            "Epoch 2/100\n",
            "455/455 [==============================] - 1s 2ms/step - loss: 1.4883 - accuracy: 0.4042\n",
            "Epoch 3/100\n",
            "455/455 [==============================] - 1s 2ms/step - loss: 1.2929 - accuracy: 0.4453\n",
            "Epoch 4/100\n",
            "455/455 [==============================] - 1s 2ms/step - loss: 1.2298 - accuracy: 0.4656\n",
            "Epoch 5/100\n",
            "455/455 [==============================] - 1s 2ms/step - loss: 1.1939 - accuracy: 0.4882\n",
            "Epoch 6/100\n",
            "455/455 [==============================] - 1s 2ms/step - loss: 1.1822 - accuracy: 0.4922\n",
            "Epoch 7/100\n",
            "455/455 [==============================] - 1s 2ms/step - loss: 1.1774 - accuracy: 0.4913\n",
            "Epoch 8/100\n",
            "455/455 [==============================] - 1s 2ms/step - loss: 1.1699 - accuracy: 0.4942\n",
            "Epoch 9/100\n",
            "455/455 [==============================] - 1s 2ms/step - loss: 1.1632 - accuracy: 0.4944\n",
            "Epoch 10/100\n",
            "455/455 [==============================] - 1s 2ms/step - loss: 1.1530 - accuracy: 0.5082\n",
            "Epoch 11/100\n",
            "455/455 [==============================] - 1s 2ms/step - loss: 1.1531 - accuracy: 0.4975\n",
            "Epoch 12/100\n",
            "455/455 [==============================] - 1s 2ms/step - loss: 1.1448 - accuracy: 0.5107\n",
            "Epoch 13/100\n",
            "455/455 [==============================] - 1s 2ms/step - loss: 1.1478 - accuracy: 0.5063\n",
            "Epoch 14/100\n",
            "455/455 [==============================] - 1s 2ms/step - loss: 1.1424 - accuracy: 0.5008\n",
            "Epoch 15/100\n",
            "455/455 [==============================] - 1s 2ms/step - loss: 1.1422 - accuracy: 0.4973\n",
            "Epoch 16/100\n",
            "455/455 [==============================] - 1s 2ms/step - loss: 1.1394 - accuracy: 0.5058\n",
            "Epoch 17/100\n",
            "455/455 [==============================] - 1s 2ms/step - loss: 1.1374 - accuracy: 0.5030\n",
            "Epoch 18/100\n",
            "455/455 [==============================] - 1s 2ms/step - loss: 1.1442 - accuracy: 0.5087\n",
            "Epoch 19/100\n",
            "455/455 [==============================] - 1s 2ms/step - loss: 1.1408 - accuracy: 0.4990\n",
            "Epoch 20/100\n",
            "455/455 [==============================] - 1s 2ms/step - loss: 1.1376 - accuracy: 0.4997\n",
            "Epoch 21/100\n",
            "455/455 [==============================] - 1s 2ms/step - loss: 1.1371 - accuracy: 0.5065\n",
            "Epoch 22/100\n",
            "455/455 [==============================] - 1s 2ms/step - loss: 1.1322 - accuracy: 0.5060\n",
            "Epoch 23/100\n",
            "455/455 [==============================] - 1s 2ms/step - loss: 1.1276 - accuracy: 0.5019\n",
            "Epoch 24/100\n",
            "455/455 [==============================] - 1s 2ms/step - loss: 1.1356 - accuracy: 0.5032\n",
            "Epoch 25/100\n",
            "455/455 [==============================] - 1s 2ms/step - loss: 1.1306 - accuracy: 0.5076\n",
            "Epoch 26/100\n",
            "455/455 [==============================] - 1s 2ms/step - loss: 1.1330 - accuracy: 0.5005\n",
            "Epoch 27/100\n",
            "455/455 [==============================] - 1s 2ms/step - loss: 1.1320 - accuracy: 0.5043\n",
            "Epoch 28/100\n",
            "455/455 [==============================] - 1s 2ms/step - loss: 1.1327 - accuracy: 0.5027\n",
            "Epoch 29/100\n",
            "455/455 [==============================] - 1s 2ms/step - loss: 1.1308 - accuracy: 0.5012\n",
            "Epoch 30/100\n",
            "455/455 [==============================] - 1s 2ms/step - loss: 1.1332 - accuracy: 0.4966\n",
            "Epoch 31/100\n",
            "455/455 [==============================] - 1s 2ms/step - loss: 1.1225 - accuracy: 0.5041\n",
            "Epoch 32/100\n",
            "455/455 [==============================] - 1s 2ms/step - loss: 1.1354 - accuracy: 0.5010\n",
            "Epoch 33/100\n",
            "455/455 [==============================] - 1s 2ms/step - loss: 1.1300 - accuracy: 0.5038\n",
            "Epoch 34/100\n",
            "455/455 [==============================] - 1s 2ms/step - loss: 1.1254 - accuracy: 0.5041\n",
            "Epoch 35/100\n",
            "455/455 [==============================] - 1s 2ms/step - loss: 1.1247 - accuracy: 0.5118\n",
            "Epoch 36/100\n",
            "455/455 [==============================] - 1s 2ms/step - loss: 1.1196 - accuracy: 0.5175\n",
            "Epoch 37/100\n",
            "455/455 [==============================] - 1s 2ms/step - loss: 1.1248 - accuracy: 0.5056\n",
            "Epoch 38/100\n",
            "455/455 [==============================] - 1s 2ms/step - loss: 1.1326 - accuracy: 0.5056\n",
            "Epoch 39/100\n",
            "455/455 [==============================] - 1s 2ms/step - loss: 1.1200 - accuracy: 0.5120\n",
            "Epoch 40/100\n",
            "455/455 [==============================] - 1s 2ms/step - loss: 1.1237 - accuracy: 0.5089\n",
            "Epoch 41/100\n",
            "455/455 [==============================] - 1s 2ms/step - loss: 1.1163 - accuracy: 0.5137\n",
            "Epoch 42/100\n",
            "455/455 [==============================] - 1s 2ms/step - loss: 1.1214 - accuracy: 0.5166\n",
            "Epoch 43/100\n",
            "455/455 [==============================] - 1s 2ms/step - loss: 1.1198 - accuracy: 0.5071\n",
            "Epoch 44/100\n",
            "455/455 [==============================] - 1s 2ms/step - loss: 1.1170 - accuracy: 0.5120\n",
            "Epoch 45/100\n",
            "455/455 [==============================] - 1s 2ms/step - loss: 1.1136 - accuracy: 0.5153\n",
            "Epoch 46/100\n",
            "455/455 [==============================] - 1s 2ms/step - loss: 1.1229 - accuracy: 0.5093\n",
            "Epoch 47/100\n",
            "455/455 [==============================] - 1s 2ms/step - loss: 1.1162 - accuracy: 0.5085\n",
            "Epoch 48/100\n",
            "455/455 [==============================] - 1s 2ms/step - loss: 1.1145 - accuracy: 0.5113\n",
            "Epoch 49/100\n",
            "455/455 [==============================] - 1s 2ms/step - loss: 1.1216 - accuracy: 0.5126\n",
            "Epoch 50/100\n",
            "455/455 [==============================] - 1s 2ms/step - loss: 1.1225 - accuracy: 0.5135\n",
            "Epoch 51/100\n",
            "455/455 [==============================] - 1s 2ms/step - loss: 1.1239 - accuracy: 0.5107\n",
            "Epoch 52/100\n",
            "455/455 [==============================] - 1s 2ms/step - loss: 1.1229 - accuracy: 0.5034\n",
            "Epoch 53/100\n",
            "455/455 [==============================] - 1s 2ms/step - loss: 1.1122 - accuracy: 0.5157\n",
            "Epoch 54/100\n",
            "455/455 [==============================] - 1s 2ms/step - loss: 1.1125 - accuracy: 0.5078\n",
            "Epoch 55/100\n",
            "455/455 [==============================] - 1s 2ms/step - loss: 1.1229 - accuracy: 0.5153\n",
            "Epoch 56/100\n",
            "455/455 [==============================] - 1s 2ms/step - loss: 1.1130 - accuracy: 0.5113\n",
            "Epoch 57/100\n",
            "455/455 [==============================] - 1s 2ms/step - loss: 1.1167 - accuracy: 0.5181\n",
            "Epoch 58/100\n",
            "455/455 [==============================] - 1s 2ms/step - loss: 1.1150 - accuracy: 0.5179\n",
            "Epoch 59/100\n",
            "455/455 [==============================] - 1s 2ms/step - loss: 1.1201 - accuracy: 0.5157\n",
            "Epoch 60/100\n",
            "455/455 [==============================] - 1s 2ms/step - loss: 1.1185 - accuracy: 0.5173\n",
            "Epoch 61/100\n",
            "455/455 [==============================] - 1s 2ms/step - loss: 1.1167 - accuracy: 0.5122\n",
            "Epoch 62/100\n",
            "455/455 [==============================] - 1s 2ms/step - loss: 1.1096 - accuracy: 0.5126\n",
            "Epoch 63/100\n",
            "455/455 [==============================] - 1s 2ms/step - loss: 1.1126 - accuracy: 0.5201\n",
            "Epoch 64/100\n",
            "455/455 [==============================] - 1s 2ms/step - loss: 1.1236 - accuracy: 0.4990\n",
            "Epoch 65/100\n",
            "455/455 [==============================] - 1s 2ms/step - loss: 1.1133 - accuracy: 0.5210\n",
            "Epoch 66/100\n",
            "455/455 [==============================] - 1s 2ms/step - loss: 1.1118 - accuracy: 0.5166\n",
            "Epoch 67/100\n",
            "455/455 [==============================] - 1s 2ms/step - loss: 1.1192 - accuracy: 0.5063\n",
            "Epoch 68/100\n",
            "455/455 [==============================] - 1s 2ms/step - loss: 1.1113 - accuracy: 0.5151\n",
            "Epoch 69/100\n",
            "455/455 [==============================] - 1s 2ms/step - loss: 1.1116 - accuracy: 0.5192\n",
            "Epoch 70/100\n",
            "455/455 [==============================] - 1s 2ms/step - loss: 1.1122 - accuracy: 0.5085\n",
            "Epoch 71/100\n",
            "455/455 [==============================] - 1s 2ms/step - loss: 1.1086 - accuracy: 0.5210\n",
            "Epoch 72/100\n",
            "455/455 [==============================] - 1s 2ms/step - loss: 1.1078 - accuracy: 0.5173\n",
            "Epoch 73/100\n",
            "455/455 [==============================] - 1s 2ms/step - loss: 1.1096 - accuracy: 0.5195\n",
            "Epoch 74/100\n",
            "455/455 [==============================] - 1s 2ms/step - loss: 1.1126 - accuracy: 0.5087\n",
            "Epoch 75/100\n",
            "455/455 [==============================] - 1s 2ms/step - loss: 1.1044 - accuracy: 0.5052\n",
            "Epoch 76/100\n",
            "455/455 [==============================] - 1s 2ms/step - loss: 1.1188 - accuracy: 0.5034\n",
            "Epoch 77/100\n",
            "455/455 [==============================] - 1s 2ms/step - loss: 1.1064 - accuracy: 0.5173\n",
            "Epoch 78/100\n",
            "455/455 [==============================] - 1s 2ms/step - loss: 1.1227 - accuracy: 0.5098\n",
            "Epoch 79/100\n",
            "455/455 [==============================] - 1s 2ms/step - loss: 1.1133 - accuracy: 0.5190\n",
            "Epoch 80/100\n",
            "455/455 [==============================] - 1s 2ms/step - loss: 1.1152 - accuracy: 0.5131\n",
            "Epoch 81/100\n",
            "455/455 [==============================] - 1s 2ms/step - loss: 1.1082 - accuracy: 0.5137\n",
            "Epoch 82/100\n",
            "455/455 [==============================] - 1s 2ms/step - loss: 1.1118 - accuracy: 0.5091\n",
            "Epoch 83/100\n",
            "455/455 [==============================] - 1s 2ms/step - loss: 1.1115 - accuracy: 0.5184\n",
            "Epoch 84/100\n",
            "455/455 [==============================] - 1s 2ms/step - loss: 1.1126 - accuracy: 0.5133\n",
            "Epoch 85/100\n",
            "455/455 [==============================] - 1s 2ms/step - loss: 1.1047 - accuracy: 0.5206\n",
            "Epoch 86/100\n",
            "455/455 [==============================] - 1s 2ms/step - loss: 1.1061 - accuracy: 0.5221\n",
            "Epoch 87/100\n",
            "455/455 [==============================] - 1s 2ms/step - loss: 1.1112 - accuracy: 0.5173\n",
            "Epoch 88/100\n",
            "455/455 [==============================] - 1s 2ms/step - loss: 1.1119 - accuracy: 0.5175\n",
            "Epoch 89/100\n",
            "455/455 [==============================] - 1s 2ms/step - loss: 1.1053 - accuracy: 0.5115\n",
            "Epoch 90/100\n",
            "455/455 [==============================] - 1s 2ms/step - loss: 1.1161 - accuracy: 0.5113\n",
            "Epoch 91/100\n",
            "455/455 [==============================] - 1s 2ms/step - loss: 1.1041 - accuracy: 0.5170\n",
            "Epoch 92/100\n",
            "455/455 [==============================] - 1s 2ms/step - loss: 1.1048 - accuracy: 0.5179\n",
            "Epoch 93/100\n",
            "455/455 [==============================] - 1s 2ms/step - loss: 1.1008 - accuracy: 0.5190\n",
            "Epoch 94/100\n",
            "455/455 [==============================] - 1s 2ms/step - loss: 1.1183 - accuracy: 0.5199\n",
            "Epoch 95/100\n",
            "455/455 [==============================] - 1s 2ms/step - loss: 1.1097 - accuracy: 0.5142\n",
            "Epoch 96/100\n",
            "455/455 [==============================] - 1s 2ms/step - loss: 1.1107 - accuracy: 0.5131\n",
            "Epoch 97/100\n",
            "455/455 [==============================] - 1s 2ms/step - loss: 1.1054 - accuracy: 0.5179\n",
            "Epoch 98/100\n",
            "455/455 [==============================] - 1s 2ms/step - loss: 1.1030 - accuracy: 0.5173\n",
            "Epoch 99/100\n",
            "455/455 [==============================] - 1s 2ms/step - loss: 1.1191 - accuracy: 0.5164\n",
            "Epoch 100/100\n",
            "455/455 [==============================] - 1s 2ms/step - loss: 1.1092 - accuracy: 0.5236\n"
          ],
          "name": "stdout"
        },
        {
          "output_type": "display_data",
          "data": {
            "image/png": "[encoded data removed]",
            "text/plain": [
              "<Figure size 432x288 with 1 Axes>"
            ]
          },
          "metadata": {
            "tags": [],
            "needs_background": "light"
          }
        }
      ]
    },
    {
      "cell_type": "code",
      "metadata": {
        "id": "fgVgUnr91MdW",
        "colab_type": "code",
        "outputId": "6ed70a52-3182-428a-91c0-424645b84e5e",
        "colab": {
          "base_uri": "https://localhost:8080/",
          "height": 52
        }
      },
      "source": [
        "#total wine에 대한 테스트\n",
        "results = model.evaluate(total_x_test, new_total_y_test)\n",
        "print('Test accuracy: ', results[1])"
      ],
      "execution_count": 175,
      "outputs": [
        {
          "output_type": "stream",
          "text": [
            "61/61 [==============================] - 0s 1ms/step - loss: 1.1055 - accuracy: 0.5585\n",
            "Test accuracy:  0.5584615468978882\n"
          ],
          "name": "stdout"
        }
      ]
    }
  ]
}