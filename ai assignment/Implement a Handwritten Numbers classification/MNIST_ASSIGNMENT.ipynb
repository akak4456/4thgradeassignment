{
  "nbformat": 4,
  "nbformat_minor": 0,
  "metadata": {
    "colab": {
      "name": "MNIST_ASSIGNMENT.ipynb",
      "provenance": [],
      "collapsed_sections": []
    },
    "kernelspec": {
      "name": "python3",
      "display_name": "Python 3"
    },
    "accelerator": "GPU"
  },
  "cells": [
    {
      "cell_type": "code",
      "metadata": {
        "id": "m6pqhDrQ-FY3",
        "colab_type": "code",
        "colab": {}
      },
      "source": [
        "#importing the mnist dataset\n",
        "from keras.datasets import mnist"
      ],
      "execution_count": 0,
      "outputs": []
    },
    {
      "cell_type": "code",
      "metadata": {
        "id": "Ccnf5n1G-VWr",
        "colab_type": "code",
        "colab": {}
      },
      "source": [
        "#load mnist data set\n",
        "#x_train mean train image and y_train mean train label\n",
        "#x_test mean test image and y_test mean test label\n",
        "(x_train, y_train) , (x_test, y_test) = mnist.load_data()"
      ],
      "execution_count": 0,
      "outputs": []
    },
    {
      "cell_type": "code",
      "metadata": {
        "id": "PBhdPiBX-c2C",
        "colab_type": "code",
        "colab": {}
      },
      "source": [
        "#Ddata processing\n",
        "#before processing x_train and x_test the x_train and x_test is 3-dims\n",
        "#Reshaping the array to 4-dims so that it can work with the Keras API\n",
        "#In this case x_train.shape[0] is 60000 and x_test.shape[10000]\n",
        "x_train = x_train.reshape(x_train.shape[0], 28, 28, 1)\n",
        "x_test = x_test.reshape(x_test.shape[0], 28, 28, 1)"
      ],
      "execution_count": 0,
      "outputs": []
    },
    {
      "cell_type": "code",
      "metadata": {
        "id": "acSs_6rq-nIx",
        "colab_type": "code",
        "colab": {}
      },
      "source": [
        "#import plt for showing image\n",
        "import matplotlib.pyplot as plt\n",
        "%matplotlib inline"
      ],
      "execution_count": 0,
      "outputs": []
    },
    {
      "cell_type": "code",
      "metadata": {
        "id": "aGmS0Tan-8f_",
        "colab_type": "code",
        "outputId": "d4242c61-3f04-4465-ac7f-9db4ead763ac",
        "colab": {
          "base_uri": "https://localhost:8080/",
          "height": 300
        }
      },
      "source": [
        "# Sample Example\n",
        "print('Sample Example from Test set')\n",
        "plt.imshow(x_test[563].reshape(28, 28),cmap='Greys')\n",
        "print('True Label: ', y_test[563])"
      ],
      "execution_count": 19,
      "outputs": [
        {
          "output_type": "stream",
          "text": [
            "Sample Example from Test set\n",
            "True Label:  8\n"
          ],
          "name": "stdout"
        },
        {
          "output_type": "display_data",
          "data": {
            "image/png": "[encoded data removed]",
            "text/plain": [
              "<Figure size 432x288 with 1 Axes>"
            ]
          },
          "metadata": {
            "tags": [],
            "needs_background": "light"
          }
        }
      ]
    },
    {
      "cell_type": "code",
      "metadata": {
        "id": "TlXIekTN_Hcx",
        "colab_type": "code",
        "colab": {}
      },
      "source": [
        "#Making sure that the values are float so that we can get decimal points after division\n",
        "x_train = x_train.astype('float32')\n",
        "x_test = x_test.astype('float32')\n",
        "#Rescaling the result is between [0,1]\n",
        "x_train /= 255\n",
        "x_test /= 255"
      ],
      "execution_count": 0,
      "outputs": []
    },
    {
      "cell_type": "code",
      "metadata": {
        "id": "VJLva9Mt_ZqZ",
        "colab_type": "code",
        "colab": {}
      },
      "source": [
        "#importing the Keras packages that we need \n",
        "#this is for cnn\n",
        "import tensorflow as tf\n",
        "from tensorflow import keras\n",
        "from tensorflow.keras import layers"
      ],
      "execution_count": 0,
      "outputs": []
    },
    {
      "cell_type": "code",
      "metadata": {
        "id": "Ev-vBlfyARZG",
        "colab_type": "code",
        "colab": {}
      },
      "source": [
        "#initializing the CNN\n",
        "model = tf.keras.Sequential()"
      ],
      "execution_count": 0,
      "outputs": []
    },
    {
      "cell_type": "code",
      "metadata": {
        "id": "ThKK9B0_ARfj",
        "colab_type": "code",
        "colab": {}
      },
      "source": [
        "# Convolution\n",
        "#input_shape 1 channel, 28x28\n",
        "#32 - feature filters, 3x3\n",
        "#relu to avoid negative values\n",
        "model.add(layers.Convolution2D(32, (4,4), input_shape = (28, 28, 1), activation = 'relu'))\n",
        "\n",
        "#Pooling\n",
        "model.add(layers.MaxPooling2D(pool_size = (3,3)))\n",
        "\n",
        "# Convolution\n",
        "#16 - feature filters, 3x3\n",
        "#input_shape is known by keras\n",
        "model.add(layers.Convolution2D(32, (3, 3), activation ='sigmoid'))\n",
        "\n",
        "#applying Max Pooling to the 2nd Convolutional layer\n",
        "model.add(layers.MaxPooling2D(pool_size = (2, 2)))\n",
        "\n",
        "#Flattening (spatial information)\n",
        "model.add(layers.Flatten())\n",
        "\n",
        "#Full Connection\n",
        "#units - number of nodes in the 1st hidden layer\n",
        "model.add(layers.Dense(units = 256, activation = 'relu'))\n",
        "#2nd hidden layer\n",
        "model.add(layers.Dense(units = 128, activation = 'relu'))\n",
        "#output layer\n",
        "model.add(layers.Dense(units = 10, activation = 'sigmoid'))"
      ],
      "execution_count": 0,
      "outputs": []
    },
    {
      "cell_type": "code",
      "metadata": {
        "id": "sOBr5hukceda",
        "colab_type": "code",
        "colab": {
          "base_uri": "https://localhost:8080/",
          "height": 439
        },
        "outputId": "d943d9dd-de91-4ae4-c73f-f3ee82ac87b5"
      },
      "source": [
        "model.summary()"
      ],
      "execution_count": 61,
      "outputs": [
        {
          "output_type": "stream",
          "text": [
            "Model: \"sequential_12\"\n",
            "_________________________________________________________________\n",
            "Layer (type)                 Output Shape              Param #   \n",
            "=================================================================\n",
            "conv2d_32 (Conv2D)           (None, 25, 25, 32)        544       \n",
            "_________________________________________________________________\n",
            "max_pooling2d_25 (MaxPooling (None, 8, 8, 32)          0         \n",
            "_________________________________________________________________\n",
            "conv2d_33 (Conv2D)           (None, 6, 6, 32)          9248      \n",
            "_________________________________________________________________\n",
            "max_pooling2d_26 (MaxPooling (None, 3, 3, 32)          0         \n",
            "_________________________________________________________________\n",
            "flatten_8 (Flatten)          (None, 288)               0         \n",
            "_________________________________________________________________\n",
            "dense_24 (Dense)             (None, 256)               73984     \n",
            "_________________________________________________________________\n",
            "dense_25 (Dense)             (None, 128)               32896     \n",
            "_________________________________________________________________\n",
            "dense_26 (Dense)             (None, 10)                1290      \n",
            "=================================================================\n",
            "Total params: 117,962\n",
            "Trainable params: 117,962\n",
            "Non-trainable params: 0\n",
            "_________________________________________________________________\n"
          ],
          "name": "stdout"
        }
      ]
    },
    {
      "cell_type": "code",
      "metadata": {
        "id": "yrM65TWPAdeO",
        "colab_type": "code",
        "outputId": "98408494-2ee4-4b1a-d350-91acfc36b98f",
        "colab": {
          "base_uri": "https://localhost:8080/",
          "height": 738
        }
      },
      "source": [
        "#Compiling the CNN\n",
        "#sparse_categorical_crossentropy because we have categories (10)\n",
        "model.compile(optimizer = 'adam', loss = 'sparse_categorical_crossentropy', metrics = ['accuracy'])\n",
        "\n",
        "\n",
        "#Part2 - FITTING THE CNN TO THE IMAGES\n",
        "model.fit(x = x_train, y = y_train, epochs = 20)"
      ],
      "execution_count": 62,
      "outputs": [
        {
          "output_type": "stream",
          "text": [
            "Epoch 1/20\n",
            "1875/1875 [==============================] - 6s 3ms/step - loss: 0.3208 - accuracy: 0.8944\n",
            "Epoch 2/20\n",
            "1875/1875 [==============================] - 6s 3ms/step - loss: 0.0777 - accuracy: 0.9759\n",
            "Epoch 3/20\n",
            "1875/1875 [==============================] - 6s 3ms/step - loss: 0.0547 - accuracy: 0.9829\n",
            "Epoch 4/20\n",
            "1875/1875 [==============================] - 6s 3ms/step - loss: 0.0442 - accuracy: 0.9865\n",
            "Epoch 5/20\n",
            "1875/1875 [==============================] - 6s 3ms/step - loss: 0.0373 - accuracy: 0.9881\n",
            "Epoch 6/20\n",
            "1875/1875 [==============================] - 6s 3ms/step - loss: 0.0322 - accuracy: 0.9900\n",
            "Epoch 7/20\n",
            "1875/1875 [==============================] - 6s 3ms/step - loss: 0.0278 - accuracy: 0.9910\n",
            "Epoch 8/20\n",
            "1875/1875 [==============================] - 6s 3ms/step - loss: 0.0237 - accuracy: 0.9925\n",
            "Epoch 9/20\n",
            "1875/1875 [==============================] - 6s 3ms/step - loss: 0.0213 - accuracy: 0.9932\n",
            "Epoch 10/20\n",
            "1875/1875 [==============================] - 6s 3ms/step - loss: 0.0186 - accuracy: 0.9937\n",
            "Epoch 11/20\n",
            "1875/1875 [==============================] - 6s 3ms/step - loss: 0.0165 - accuracy: 0.9945\n",
            "Epoch 12/20\n",
            "1875/1875 [==============================] - 6s 3ms/step - loss: 0.0147 - accuracy: 0.9951\n",
            "Epoch 13/20\n",
            "1875/1875 [==============================] - 6s 3ms/step - loss: 0.0143 - accuracy: 0.9955\n",
            "Epoch 14/20\n",
            "1875/1875 [==============================] - 6s 3ms/step - loss: 0.0134 - accuracy: 0.9954\n",
            "Epoch 15/20\n",
            "1875/1875 [==============================] - 6s 3ms/step - loss: 0.0108 - accuracy: 0.9967\n",
            "Epoch 16/20\n",
            "1875/1875 [==============================] - 6s 3ms/step - loss: 0.0110 - accuracy: 0.9965\n",
            "Epoch 17/20\n",
            "1875/1875 [==============================] - 6s 3ms/step - loss: 0.0102 - accuracy: 0.9968\n",
            "Epoch 18/20\n",
            "1875/1875 [==============================] - 6s 3ms/step - loss: 0.0094 - accuracy: 0.9967\n",
            "Epoch 19/20\n",
            "1875/1875 [==============================] - 6s 3ms/step - loss: 0.0095 - accuracy: 0.9968\n",
            "Epoch 20/20\n",
            "1875/1875 [==============================] - 6s 3ms/step - loss: 0.0086 - accuracy: 0.9971\n"
          ],
          "name": "stdout"
        },
        {
          "output_type": "execute_result",
          "data": {
            "text/plain": [
              "<tensorflow.python.keras.callbacks.History at 0x7fc68249cef0>"
            ]
          },
          "metadata": {
            "tags": []
          },
          "execution_count": 62
        }
      ]
    },
    {
      "cell_type": "code",
      "metadata": {
        "id": "5THe599DAsNq",
        "colab_type": "code",
        "outputId": "0d36a4c5-a057-4d2d-d49f-83c653f37438",
        "colab": {
          "base_uri": "https://localhost:8080/",
          "height": 52
        }
      },
      "source": [
        "#Part3 - EVALUATING THE CLASSIFIER\n",
        "model.evaluate(x_test, y_test)"
      ],
      "execution_count": 63,
      "outputs": [
        {
          "output_type": "stream",
          "text": [
            "313/313 [==============================] - 1s 3ms/step - loss: 0.0385 - accuracy: 0.9913\n"
          ],
          "name": "stdout"
        },
        {
          "output_type": "execute_result",
          "data": {
            "text/plain": [
              "[0.03854847699403763, 0.9912999868392944]"
            ]
          },
          "metadata": {
            "tags": []
          },
          "execution_count": 63
        }
      ]
    },
    {
      "cell_type": "code",
      "metadata": {
        "id": "4zIqzYMWaFVD",
        "colab_type": "code",
        "colab": {
          "base_uri": "https://localhost:8080/",
          "height": 282
        },
        "outputId": "49a117d7-e3ef-419a-ee3b-0dfdf888d199"
      },
      "source": [
        "#Part4 - TESTING\n",
        "import matplotlib.pyplot as plt\n",
        "%matplotlib inline\n",
        "#plotting the instance 563 of the test set\n",
        "plt.imshow(x_test[563].reshape(28, 28),cmap='Greys')\n",
        "#predicting the result\n",
        "pred = model.predict(x_test[563].reshape(1, 28, 28, 1))\n",
        "#argmax chooses the class with maximum probability \n",
        "print(\"The predicted number is: \", pred.argmax())"
      ],
      "execution_count": 64,
      "outputs": [
        {
          "output_type": "stream",
          "text": [
            "The predicted number is:  8\n"
          ],
          "name": "stdout"
        },
        {
          "output_type": "display_data",
          "data": {
            "image/png": "[encoded data removed]",
            "text/plain": [
              "<Figure size 432x288 with 1 Axes>"
            ]
          },
          "metadata": {
            "tags": [],
            "needs_background": "light"
          }
        }
      ]
    }
  ]
}